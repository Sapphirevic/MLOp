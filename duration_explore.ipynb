{
  "nbformat": 4,
  "nbformat_minor": 0,
  "metadata": {
    "colab": {
      "provenance": [],
      "authorship_tag": "ABX9TyNz3Sex4kxmcF2aKpDKcNWO",
      "include_colab_link": true
    },
    "kernelspec": {
      "name": "python3",
      "display_name": "Python 3"
    },
    "language_info": {
      "name": "python"
    }
  },
  "cells": [
    {
      "cell_type": "markdown",
      "metadata": {
        "id": "view-in-github",
        "colab_type": "text"
      },
      "source": [
        "<a href=\"https://colab.research.google.com/github/Sapphirevic/MLOp/blob/main/duration_explore.ipynb\" target=\"_parent\"><img src=\"https://colab.research.google.com/assets/colab-badge.svg\" alt=\"Open In Colab\"/></a>"
      ]
    },
    {
      "cell_type": "code",
      "execution_count": null,
      "metadata": {
        "colab": {
          "base_uri": "https://localhost:8080/"
        },
        "id": "166SeiHXQ13E",
        "outputId": "22c9b7d1-58ce-4da8-9c08-27303d0c65f2"
      },
      "outputs": [
        {
          "output_type": "stream",
          "name": "stdout",
          "text": [
            "Python 3.10.12\n"
          ]
        }
      ],
      "source": [
        "!python -V"
      ]
    },
    {
      "cell_type": "code",
      "source": [
        "import pandas as pd\n",
        "import pickle\n",
        "import seaborn as sns\n",
        "import matplotlib.pyplot as plt\n",
        "from sklearn.feature_extraction import DictVectorizer\n",
        "from sklearn.linear_model import LinearRegression\n",
        "from sklearn.linear_model import Lasso\n",
        "from sklearn.linear_model import Ridge\n",
        "\n",
        "from sklearn.metrics import mean_squared_error\n",
        "import os\n",
        "import xgboost as xgb\n",
        "from hyperopt import fmin, tpe, hp, STATUS_OK, Trials\n",
        "from hyperopt.pyll import scope"
      ],
      "metadata": {
        "id": "fmUHtBAERhWy"
      },
      "execution_count": null,
      "outputs": []
    },
    {
      "cell_type": "code",
      "source": [
        "from google.colab import files\n",
        "upload = files.upload()"
      ],
      "metadata": {
        "id": "kKf9KgZeq9Fq",
        "colab": {
          "base_uri": "https://localhost:8080/",
          "height": 73
        },
        "outputId": "002c7918-ebac-40dc-ed1a-5681e2d4e38c"
      },
      "execution_count": null,
      "outputs": [
        {
          "output_type": "display_data",
          "data": {
            "text/plain": [
              "<IPython.core.display.HTML object>"
            ],
            "text/html": [
              "\n",
              "     <input type=\"file\" id=\"files-a4584b3c-6153-44ee-89e6-5d35f297f462\" name=\"files[]\" multiple disabled\n",
              "        style=\"border:none\" />\n",
              "     <output id=\"result-a4584b3c-6153-44ee-89e6-5d35f297f462\">\n",
              "      Upload widget is only available when the cell has been executed in the\n",
              "      current browser session. Please rerun this cell to enable.\n",
              "      </output>\n",
              "      <script>// Copyright 2017 Google LLC\n",
              "//\n",
              "// Licensed under the Apache License, Version 2.0 (the \"License\");\n",
              "// you may not use this file except in compliance with the License.\n",
              "// You may obtain a copy of the License at\n",
              "//\n",
              "//      http://www.apache.org/licenses/LICENSE-2.0\n",
              "//\n",
              "// Unless required by applicable law or agreed to in writing, software\n",
              "// distributed under the License is distributed on an \"AS IS\" BASIS,\n",
              "// WITHOUT WARRANTIES OR CONDITIONS OF ANY KIND, either express or implied.\n",
              "// See the License for the specific language governing permissions and\n",
              "// limitations under the License.\n",
              "\n",
              "/**\n",
              " * @fileoverview Helpers for google.colab Python module.\n",
              " */\n",
              "(function(scope) {\n",
              "function span(text, styleAttributes = {}) {\n",
              "  const element = document.createElement('span');\n",
              "  element.textContent = text;\n",
              "  for (const key of Object.keys(styleAttributes)) {\n",
              "    element.style[key] = styleAttributes[key];\n",
              "  }\n",
              "  return element;\n",
              "}\n",
              "\n",
              "// Max number of bytes which will be uploaded at a time.\n",
              "const MAX_PAYLOAD_SIZE = 100 * 1024;\n",
              "\n",
              "function _uploadFiles(inputId, outputId) {\n",
              "  const steps = uploadFilesStep(inputId, outputId);\n",
              "  const outputElement = document.getElementById(outputId);\n",
              "  // Cache steps on the outputElement to make it available for the next call\n",
              "  // to uploadFilesContinue from Python.\n",
              "  outputElement.steps = steps;\n",
              "\n",
              "  return _uploadFilesContinue(outputId);\n",
              "}\n",
              "\n",
              "// This is roughly an async generator (not supported in the browser yet),\n",
              "// where there are multiple asynchronous steps and the Python side is going\n",
              "// to poll for completion of each step.\n",
              "// This uses a Promise to block the python side on completion of each step,\n",
              "// then passes the result of the previous step as the input to the next step.\n",
              "function _uploadFilesContinue(outputId) {\n",
              "  const outputElement = document.getElementById(outputId);\n",
              "  const steps = outputElement.steps;\n",
              "\n",
              "  const next = steps.next(outputElement.lastPromiseValue);\n",
              "  return Promise.resolve(next.value.promise).then((value) => {\n",
              "    // Cache the last promise value to make it available to the next\n",
              "    // step of the generator.\n",
              "    outputElement.lastPromiseValue = value;\n",
              "    return next.value.response;\n",
              "  });\n",
              "}\n",
              "\n",
              "/**\n",
              " * Generator function which is called between each async step of the upload\n",
              " * process.\n",
              " * @param {string} inputId Element ID of the input file picker element.\n",
              " * @param {string} outputId Element ID of the output display.\n",
              " * @return {!Iterable<!Object>} Iterable of next steps.\n",
              " */\n",
              "function* uploadFilesStep(inputId, outputId) {\n",
              "  const inputElement = document.getElementById(inputId);\n",
              "  inputElement.disabled = false;\n",
              "\n",
              "  const outputElement = document.getElementById(outputId);\n",
              "  outputElement.innerHTML = '';\n",
              "\n",
              "  const pickedPromise = new Promise((resolve) => {\n",
              "    inputElement.addEventListener('change', (e) => {\n",
              "      resolve(e.target.files);\n",
              "    });\n",
              "  });\n",
              "\n",
              "  const cancel = document.createElement('button');\n",
              "  inputElement.parentElement.appendChild(cancel);\n",
              "  cancel.textContent = 'Cancel upload';\n",
              "  const cancelPromise = new Promise((resolve) => {\n",
              "    cancel.onclick = () => {\n",
              "      resolve(null);\n",
              "    };\n",
              "  });\n",
              "\n",
              "  // Wait for the user to pick the files.\n",
              "  const files = yield {\n",
              "    promise: Promise.race([pickedPromise, cancelPromise]),\n",
              "    response: {\n",
              "      action: 'starting',\n",
              "    }\n",
              "  };\n",
              "\n",
              "  cancel.remove();\n",
              "\n",
              "  // Disable the input element since further picks are not allowed.\n",
              "  inputElement.disabled = true;\n",
              "\n",
              "  if (!files) {\n",
              "    return {\n",
              "      response: {\n",
              "        action: 'complete',\n",
              "      }\n",
              "    };\n",
              "  }\n",
              "\n",
              "  for (const file of files) {\n",
              "    const li = document.createElement('li');\n",
              "    li.append(span(file.name, {fontWeight: 'bold'}));\n",
              "    li.append(span(\n",
              "        `(${file.type || 'n/a'}) - ${file.size} bytes, ` +\n",
              "        `last modified: ${\n",
              "            file.lastModifiedDate ? file.lastModifiedDate.toLocaleDateString() :\n",
              "                                    'n/a'} - `));\n",
              "    const percent = span('0% done');\n",
              "    li.appendChild(percent);\n",
              "\n",
              "    outputElement.appendChild(li);\n",
              "\n",
              "    const fileDataPromise = new Promise((resolve) => {\n",
              "      const reader = new FileReader();\n",
              "      reader.onload = (e) => {\n",
              "        resolve(e.target.result);\n",
              "      };\n",
              "      reader.readAsArrayBuffer(file);\n",
              "    });\n",
              "    // Wait for the data to be ready.\n",
              "    let fileData = yield {\n",
              "      promise: fileDataPromise,\n",
              "      response: {\n",
              "        action: 'continue',\n",
              "      }\n",
              "    };\n",
              "\n",
              "    // Use a chunked sending to avoid message size limits. See b/62115660.\n",
              "    let position = 0;\n",
              "    do {\n",
              "      const length = Math.min(fileData.byteLength - position, MAX_PAYLOAD_SIZE);\n",
              "      const chunk = new Uint8Array(fileData, position, length);\n",
              "      position += length;\n",
              "\n",
              "      const base64 = btoa(String.fromCharCode.apply(null, chunk));\n",
              "      yield {\n",
              "        response: {\n",
              "          action: 'append',\n",
              "          file: file.name,\n",
              "          data: base64,\n",
              "        },\n",
              "      };\n",
              "\n",
              "      let percentDone = fileData.byteLength === 0 ?\n",
              "          100 :\n",
              "          Math.round((position / fileData.byteLength) * 100);\n",
              "      percent.textContent = `${percentDone}% done`;\n",
              "\n",
              "    } while (position < fileData.byteLength);\n",
              "  }\n",
              "\n",
              "  // All done.\n",
              "  yield {\n",
              "    response: {\n",
              "      action: 'complete',\n",
              "    }\n",
              "  };\n",
              "}\n",
              "\n",
              "scope.google = scope.google || {};\n",
              "scope.google.colab = scope.google.colab || {};\n",
              "scope.google.colab._files = {\n",
              "  _uploadFiles,\n",
              "  _uploadFilesContinue,\n",
              "};\n",
              "})(self);\n",
              "</script> "
            ]
          },
          "metadata": {}
        },
        {
          "output_type": "stream",
          "name": "stdout",
          "text": [
            "Saving green_tripdata_2021-01.parquet to green_tripdata_2021-01.parquet\n"
          ]
        }
      ]
    },
    {
      "cell_type": "code",
      "source": [
        "from google.colab import files\n",
        "upload = files.upload()"
      ],
      "metadata": {
        "colab": {
          "base_uri": "https://localhost:8080/",
          "height": 73
        },
        "outputId": "84eb76cd-8a48-47a7-d5ac-4fd1d4463306",
        "id": "MOqGeMZssa9g"
      },
      "execution_count": null,
      "outputs": [
        {
          "output_type": "display_data",
          "data": {
            "text/plain": [
              "<IPython.core.display.HTML object>"
            ],
            "text/html": [
              "\n",
              "     <input type=\"file\" id=\"files-d1aa1f72-c65b-4003-a235-6840d6c98f16\" name=\"files[]\" multiple disabled\n",
              "        style=\"border:none\" />\n",
              "     <output id=\"result-d1aa1f72-c65b-4003-a235-6840d6c98f16\">\n",
              "      Upload widget is only available when the cell has been executed in the\n",
              "      current browser session. Please rerun this cell to enable.\n",
              "      </output>\n",
              "      <script>// Copyright 2017 Google LLC\n",
              "//\n",
              "// Licensed under the Apache License, Version 2.0 (the \"License\");\n",
              "// you may not use this file except in compliance with the License.\n",
              "// You may obtain a copy of the License at\n",
              "//\n",
              "//      http://www.apache.org/licenses/LICENSE-2.0\n",
              "//\n",
              "// Unless required by applicable law or agreed to in writing, software\n",
              "// distributed under the License is distributed on an \"AS IS\" BASIS,\n",
              "// WITHOUT WARRANTIES OR CONDITIONS OF ANY KIND, either express or implied.\n",
              "// See the License for the specific language governing permissions and\n",
              "// limitations under the License.\n",
              "\n",
              "/**\n",
              " * @fileoverview Helpers for google.colab Python module.\n",
              " */\n",
              "(function(scope) {\n",
              "function span(text, styleAttributes = {}) {\n",
              "  const element = document.createElement('span');\n",
              "  element.textContent = text;\n",
              "  for (const key of Object.keys(styleAttributes)) {\n",
              "    element.style[key] = styleAttributes[key];\n",
              "  }\n",
              "  return element;\n",
              "}\n",
              "\n",
              "// Max number of bytes which will be uploaded at a time.\n",
              "const MAX_PAYLOAD_SIZE = 100 * 1024;\n",
              "\n",
              "function _uploadFiles(inputId, outputId) {\n",
              "  const steps = uploadFilesStep(inputId, outputId);\n",
              "  const outputElement = document.getElementById(outputId);\n",
              "  // Cache steps on the outputElement to make it available for the next call\n",
              "  // to uploadFilesContinue from Python.\n",
              "  outputElement.steps = steps;\n",
              "\n",
              "  return _uploadFilesContinue(outputId);\n",
              "}\n",
              "\n",
              "// This is roughly an async generator (not supported in the browser yet),\n",
              "// where there are multiple asynchronous steps and the Python side is going\n",
              "// to poll for completion of each step.\n",
              "// This uses a Promise to block the python side on completion of each step,\n",
              "// then passes the result of the previous step as the input to the next step.\n",
              "function _uploadFilesContinue(outputId) {\n",
              "  const outputElement = document.getElementById(outputId);\n",
              "  const steps = outputElement.steps;\n",
              "\n",
              "  const next = steps.next(outputElement.lastPromiseValue);\n",
              "  return Promise.resolve(next.value.promise).then((value) => {\n",
              "    // Cache the last promise value to make it available to the next\n",
              "    // step of the generator.\n",
              "    outputElement.lastPromiseValue = value;\n",
              "    return next.value.response;\n",
              "  });\n",
              "}\n",
              "\n",
              "/**\n",
              " * Generator function which is called between each async step of the upload\n",
              " * process.\n",
              " * @param {string} inputId Element ID of the input file picker element.\n",
              " * @param {string} outputId Element ID of the output display.\n",
              " * @return {!Iterable<!Object>} Iterable of next steps.\n",
              " */\n",
              "function* uploadFilesStep(inputId, outputId) {\n",
              "  const inputElement = document.getElementById(inputId);\n",
              "  inputElement.disabled = false;\n",
              "\n",
              "  const outputElement = document.getElementById(outputId);\n",
              "  outputElement.innerHTML = '';\n",
              "\n",
              "  const pickedPromise = new Promise((resolve) => {\n",
              "    inputElement.addEventListener('change', (e) => {\n",
              "      resolve(e.target.files);\n",
              "    });\n",
              "  });\n",
              "\n",
              "  const cancel = document.createElement('button');\n",
              "  inputElement.parentElement.appendChild(cancel);\n",
              "  cancel.textContent = 'Cancel upload';\n",
              "  const cancelPromise = new Promise((resolve) => {\n",
              "    cancel.onclick = () => {\n",
              "      resolve(null);\n",
              "    };\n",
              "  });\n",
              "\n",
              "  // Wait for the user to pick the files.\n",
              "  const files = yield {\n",
              "    promise: Promise.race([pickedPromise, cancelPromise]),\n",
              "    response: {\n",
              "      action: 'starting',\n",
              "    }\n",
              "  };\n",
              "\n",
              "  cancel.remove();\n",
              "\n",
              "  // Disable the input element since further picks are not allowed.\n",
              "  inputElement.disabled = true;\n",
              "\n",
              "  if (!files) {\n",
              "    return {\n",
              "      response: {\n",
              "        action: 'complete',\n",
              "      }\n",
              "    };\n",
              "  }\n",
              "\n",
              "  for (const file of files) {\n",
              "    const li = document.createElement('li');\n",
              "    li.append(span(file.name, {fontWeight: 'bold'}));\n",
              "    li.append(span(\n",
              "        `(${file.type || 'n/a'}) - ${file.size} bytes, ` +\n",
              "        `last modified: ${\n",
              "            file.lastModifiedDate ? file.lastModifiedDate.toLocaleDateString() :\n",
              "                                    'n/a'} - `));\n",
              "    const percent = span('0% done');\n",
              "    li.appendChild(percent);\n",
              "\n",
              "    outputElement.appendChild(li);\n",
              "\n",
              "    const fileDataPromise = new Promise((resolve) => {\n",
              "      const reader = new FileReader();\n",
              "      reader.onload = (e) => {\n",
              "        resolve(e.target.result);\n",
              "      };\n",
              "      reader.readAsArrayBuffer(file);\n",
              "    });\n",
              "    // Wait for the data to be ready.\n",
              "    let fileData = yield {\n",
              "      promise: fileDataPromise,\n",
              "      response: {\n",
              "        action: 'continue',\n",
              "      }\n",
              "    };\n",
              "\n",
              "    // Use a chunked sending to avoid message size limits. See b/62115660.\n",
              "    let position = 0;\n",
              "    do {\n",
              "      const length = Math.min(fileData.byteLength - position, MAX_PAYLOAD_SIZE);\n",
              "      const chunk = new Uint8Array(fileData, position, length);\n",
              "      position += length;\n",
              "\n",
              "      const base64 = btoa(String.fromCharCode.apply(null, chunk));\n",
              "      yield {\n",
              "        response: {\n",
              "          action: 'append',\n",
              "          file: file.name,\n",
              "          data: base64,\n",
              "        },\n",
              "      };\n",
              "\n",
              "      let percentDone = fileData.byteLength === 0 ?\n",
              "          100 :\n",
              "          Math.round((position / fileData.byteLength) * 100);\n",
              "      percent.textContent = `${percentDone}% done`;\n",
              "\n",
              "    } while (position < fileData.byteLength);\n",
              "  }\n",
              "\n",
              "  // All done.\n",
              "  yield {\n",
              "    response: {\n",
              "      action: 'complete',\n",
              "    }\n",
              "  };\n",
              "}\n",
              "\n",
              "scope.google = scope.google || {};\n",
              "scope.google.colab = scope.google.colab || {};\n",
              "scope.google.colab._files = {\n",
              "  _uploadFiles,\n",
              "  _uploadFilesContinue,\n",
              "};\n",
              "})(self);\n",
              "</script> "
            ]
          },
          "metadata": {}
        },
        {
          "output_type": "stream",
          "name": "stdout",
          "text": [
            "Saving green_tripdata_2021-02.parquet to green_tripdata_2021-02.parquet\n"
          ]
        }
      ]
    },
    {
      "cell_type": "code",
      "execution_count": null,
      "metadata": {
        "id": "-BJsFbrqplQA"
      },
      "outputs": [],
      "source": [
        "!pip install mlflow #--quiet\n",
        "!pip install pyngrok  #ngrok helps integrate mlflow in colab"
      ]
    },
    {
      "cell_type": "code",
      "execution_count": null,
      "metadata": {
        "id": "22RzT1DnRo1B"
      },
      "outputs": [],
      "source": [
        "import mlflow\n",
        "import subprocess\n",
        "from pyngrok import ngrok, conf\n",
        "import getpass"
      ]
    },
    {
      "cell_type": "code",
      "source": [
        "mlflow.set_tracking_uri('sqlite:///mlflow.db')\n",
        "mlflow.set_experiment('Learn MLFLOW')"
      ],
      "metadata": {
        "id": "hesUetGrSEH-"
      },
      "execution_count": null,
      "outputs": []
    },
    {
      "cell_type": "code",
      "execution_count": null,
      "metadata": {
        "id": "3xRhzn51Tees",
        "colab": {
          "base_uri": "https://localhost:8080/"
        },
        "outputId": "d90124ca-96e2-46ed-e7c5-dde4aec3fb29"
      },
      "outputs": [
        {
          "output_type": "stream",
          "name": "stdout",
          "text": [
            "ngrok config add-authtoken 2ZrJVVeIYs9WvY2PriDSGfOk8Iz_7FtnWPBGCTht5dRGuJ4jZ\n",
            "··········\n",
            " *ngrok tunnel 'https://e119-34-148-32-177.ngrok-free.app' -> 'http://127.0.0.1:5000'\n"
          ]
        }
      ],
      "source": [
        "print('ngrok config add-authtoken 2ZrJVVeIYs9WvY2PriDSGfOk8Iz_7FtnWPBGCTht5dRGuJ4jZ')\n",
        "conf.get_default().auth_token = getpass.getpass()\n",
        "port=5000\n",
        "public_url =ngrok.connect(port).public_url\n",
        "print(f' *ngrok tunnel \\'{public_url}\\' -> \\'http://127.0.0.1:{port}\\'')"
      ]
    },
    {
      "cell_type": "code",
      "source": [
        "def read_dataframe(filename):\n",
        "  lab = pd.read_parquet(filename)\n",
        "\n",
        "  lab.lpep_pickup_datetime = pd.to_datetime(lab.lpep_pickup_datetime)    #datetime - to tell pandas that it is not a string but date\n",
        "  lab.lpep_dropoff_datetime = pd.to_datetime(lab.lpep_dropoff_datetime)\n",
        "\n",
        "  lab['duration'] = lab.lpep_dropoff_datetime - lab.lpep_pickup_datetime   # adding duration to the list\n",
        "  lab.duration = lab.duration.apply(lambda td: td.total_seconds() / 60)\n",
        "\n",
        "  lab = lab[((lab.duration >= 1) & (lab.duration <= 60))]\n",
        "\n",
        "  categ = ['PULocationID', 'DOLocationID']\n",
        "  lab[categ] = lab[categ].astype(str)\n",
        "\n",
        "  return lab"
      ],
      "metadata": {
        "id": "hVB-4yu6n1fR"
      },
      "execution_count": null,
      "outputs": []
    },
    {
      "cell_type": "code",
      "execution_count": null,
      "metadata": {
        "id": "RCtqbR1D3Ia3"
      },
      "outputs": [],
      "source": [
        "lab_train = read_dataframe('green_tripdata_2021-01.parquet')\n",
        "lab_val = read_dataframe('green_tripdata_2021-02.parquet')"
      ]
    },
    {
      "cell_type": "code",
      "execution_count": null,
      "metadata": {
        "id": "nH74snF-3zT3",
        "colab": {
          "base_uri": "https://localhost:8080/"
        },
        "outputId": "ab61d2e8-3557-44e6-9503-6fb820400cdf"
      },
      "outputs": [
        {
          "output_type": "execute_result",
          "data": {
            "text/plain": [
              "(73908, 61921)"
            ]
          },
          "metadata": {},
          "execution_count": 11
        }
      ],
      "source": [
        "len(lab_train), len(lab_val)"
      ]
    },
    {
      "cell_type": "code",
      "execution_count": null,
      "metadata": {
        "id": "-OO8lhubdu3Y"
      },
      "outputs": [],
      "source": [
        "lab_train['PU_DO'] = lab_train['PULocationID'].astype(str) + '_' + lab_train['DOLocationID'].astype(str)\n",
        "lab_val['PU_DO'] = lab_val['PULocationID'].astype(str) + '_' + lab_val['DOLocationID'].astype(str)"
      ]
    },
    {
      "cell_type": "code",
      "execution_count": null,
      "metadata": {
        "id": "X7_U3NldTGdR"
      },
      "outputs": [],
      "source": [
        "categ = ['PU_DO']#, 'DOLocationID']\n",
        "num = ['trip_distance']\n",
        "\n",
        "dv =DictVectorizer()    # turns a dictionary into a vector\n",
        "\n",
        "train_dict = lab_train[categ + num].to_dict(orient='records') #iloc[:10 - takes first 10,  this syntax turns the dataframe into dictionaries\n",
        "x_train = dv.fit_transform(train_dict)\n",
        "\n",
        "val_dicts = lab_val[categ + num].to_dict(orient='records')\n",
        "x_val =  dv.transform(val_dicts)"
      ]
    },
    {
      "cell_type": "code",
      "source": [
        "type(x_train)"
      ],
      "metadata": {
        "id": "IOWSYb62o7Rz",
        "colab": {
          "base_uri": "https://localhost:8080/"
        },
        "outputId": "5f4798eb-ac26-40f7-a869-4a0edc53b541"
      },
      "execution_count": null,
      "outputs": [
        {
          "output_type": "execute_result",
          "data": {
            "text/plain": [
              "scipy.sparse._csr.csr_matrix"
            ]
          },
          "metadata": {},
          "execution_count": 15
        }
      ]
    },
    {
      "cell_type": "code",
      "source": [
        "type(x_val)"
      ],
      "metadata": {
        "id": "1GV76Mcqo8yV",
        "colab": {
          "base_uri": "https://localhost:8080/"
        },
        "outputId": "097c88a5-65da-4026-bede-592b819a7d96"
      },
      "execution_count": null,
      "outputs": [
        {
          "output_type": "execute_result",
          "data": {
            "text/plain": [
              "scipy.sparse._csr.csr_matrix"
            ]
          },
          "metadata": {},
          "execution_count": 16
        }
      ]
    },
    {
      "cell_type": "code",
      "source": [
        "target = 'duration'\n",
        "y_train = lab_train[target].values\n",
        "y_val = lab_val[target].values"
      ],
      "metadata": {
        "id": "1wt73q77pC5E"
      },
      "execution_count": null,
      "outputs": []
    },
    {
      "cell_type": "code",
      "source": [
        "type(y_val)"
      ],
      "metadata": {
        "id": "S2Ee8xm1pLfi",
        "colab": {
          "base_uri": "https://localhost:8080/"
        },
        "outputId": "e5d028a5-a754-45f8-c81b-9a8a0ca75ff0"
      },
      "execution_count": null,
      "outputs": [
        {
          "output_type": "execute_result",
          "data": {
            "text/plain": [
              "numpy.ndarray"
            ]
          },
          "metadata": {},
          "execution_count": 18
        }
      ]
    },
    {
      "cell_type": "code",
      "source": [
        "lr = LinearRegression()\n",
        "lr.fit(x_train, y_train)\n",
        "\n",
        "y_pred = lr.predict(x_val)\n",
        "\n",
        "mean_squared_error(y_val, y_pred, squared=False)"
      ],
      "metadata": {
        "id": "xts1r_rRpShs",
        "colab": {
          "base_uri": "https://localhost:8080/"
        },
        "outputId": "6bdcab9b-eae2-4d4b-fe16-2a283d04f52d"
      },
      "execution_count": null,
      "outputs": [
        {
          "output_type": "execute_result",
          "data": {
            "text/plain": [
              "7.758715206462274"
            ]
          },
          "metadata": {},
          "execution_count": 19
        }
      ]
    },
    {
      "cell_type": "code",
      "execution_count": null,
      "metadata": {
        "id": "yG0pV00ej1EF"
      },
      "outputs": [],
      "source": [
        "import pathlib\n",
        "pathlib.Path(\"models\").mkdir(exist_ok=True)\n",
        "\n",
        "# Creating the 'models' directory because it doesn't exist\n",
        "if not os.path.exists('models'):\n",
        "    os.makedirs('models')\n",
        "\n",
        "# original code to save the file\n",
        "with open('models/lin_reg.bin', 'wb') as f_out:\n",
        "    pickle.dump((dv, lr), f_out)\n"
      ]
    },
    {
      "cell_type": "code",
      "execution_count": 23,
      "metadata": {
        "id": "xuKWVcG5iWPS"
      },
      "outputs": [],
      "source": [
        "# End the current active run\n",
        "mlflow.end_run()\n",
        "\n",
        "# Start a new run\n",
        "with mlflow.start_run():\n",
        "    mlflow.set_tag('developer', 'Victoria')\n",
        "\n",
        "    mlflow.log_param('train-data-path', 'green_tripdata_2021-01.parquet')\n",
        "    mlflow.log_param('val-data-path', 'green_tripdata_2021-02.parquet')\n",
        "\n",
        "    alpha = 0.01\n",
        "    mlflow.log_param('alpha', alpha)\n",
        "\n",
        "    lr = Lasso(alpha)\n",
        "    lr.fit(x_train, y_train)\n",
        "\n",
        "    y_pred = lr.predict(x_val)\n",
        "\n",
        "    rmse = mean_squared_error(y_val, y_pred, squared=False)\n",
        "    mlflow.log_metric('rmse', rmse)\n",
        "\n",
        "    mlflow.log_artifact(local_path='models/lin_reg.bin', artifact_path='models_pickle/lin_reg.bin')  #saved the model in lin_reg.bin in the artifact directory\n"
      ]
    },
    {
      "cell_type": "code",
      "source": [
        "train = xgb.DMatrix(x_train, label=y_train)\n",
        "valid = xgb.DMatrix(x_val, label=y_val)"
      ],
      "metadata": {
        "id": "eUxHM2veqOuN"
      },
      "execution_count": 24,
      "outputs": []
    },
    {
      "cell_type": "code",
      "execution_count": 25,
      "metadata": {
        "id": "_1smIpa1ALK_"
      },
      "outputs": [],
      "source": [
        "def objective(params):\n",
        "      #  params = log and visualize parameters using MLflow\n",
        "  with mlflow.start_run():\n",
        "     mlflow.set_tag('model', 'xgboost')\n",
        "     mlflow.log_params(params)\n",
        "     booster = xgb.train(\n",
        "        params=params,\n",
        "        dtrain=train,\n",
        "        num_boost_round=1000,\n",
        "        evals=[(valid, 'validation')],\n",
        "        early_stopping_rounds=50\n",
        "     )\n",
        "     y_pred = booster.predict(valid)\n",
        "     rmse = mean_squared_error(y_val, y_pred, squared=False)\n",
        "     mlflow.log_metric('rmse', rmse)\n",
        "\n",
        "  return {'loss': rmse, 'status': STATUS_OK}"
      ]
    },
    {
      "cell_type": "code",
      "execution_count": null,
      "metadata": {
        "id": "h107t_UNJktw"
      },
      "outputs": [],
      "source": [
        " search_space = {\n",
        "     'max_depth': scope.int(hp.quniform('max_depth', 4, 100, 1)),\n",
        "     'learning_rate': hp.loguniform('learning_rate', -3, 0),\n",
        "     'reg_alpha': hp.loguniform('reg_alpha', -5, -1),\n",
        "     'reg_lambda': hp.loguniform('reg_lamba', -6, -1),\n",
        "     'min_child_weight': hp.loguniform('min_child_weight', -1, 3),\n",
        "     'objective': 'reg:linear',\n",
        "     'seed': 42,\n",
        " }\n",
        "\n",
        " best_result = fmin(\n",
        "     fn=objective,\n",
        "     space=search_space,\n",
        "     algo=tpe.suggest,\n",
        "     max_evals=50,\n",
        "     trials=Trials())"
      ]
    },
    {
      "cell_type": "code",
      "source": [
        "from sklearn.ensemble import RandomForestRegressor, GradientBoostingRegressor, ExtraTreesRegressor\n",
        "from sklearn.svm import LinearSVR\n",
        "\n",
        "mlflow.sklearn.autolog()\n",
        "\n",
        "for model_class in (RandomForestRegressor, GradientBoostingRegressor, ExtraTreesRegressor, LinearSVR):\n",
        "\n",
        "    with mlflow.start_run():\n",
        "\n",
        "        mlflow.log_param(\"train-data-path\", \"./data/green_tripdata_2021-01.csv\")\n",
        "        mlflow.log_param(\"valid-data-path\", \"./data/green_tripdata_2021-02.csv\")\n",
        "        mlflow.log_artifact(\"models/preprocessor.b\", artifact_path=\"preprocessor\")\n",
        "\n",
        "        mlmodel = model_class()\n",
        "        mlmodel.fit(X_train, y_train)\n",
        "\n",
        "        y_pred = mlmodel.predict(X_val)\n",
        "        rmse = mean_squared_error(y_val, y_pred, squared=False)\n",
        "        mlflow.log_metric(\"rmse\", rmse)"
      ],
      "metadata": {
        "id": "XD8t7K4JrHFh"
      },
      "execution_count": null,
      "outputs": []
    }
  ]
}