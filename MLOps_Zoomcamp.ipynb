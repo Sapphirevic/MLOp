{
  "cells": [
    {
      "cell_type": "markdown",
      "metadata": {
        "id": "view-in-github",
        "colab_type": "text"
      },
      "source": [
        "<a href=\"https://colab.research.google.com/github/Sapphirevic/MLOp/blob/main/MLOps_Zoomcamp.ipynb\" target=\"_parent\"><img src=\"https://colab.research.google.com/assets/colab-badge.svg\" alt=\"Open In Colab\"/></a>"
      ]
    },
    {
      "cell_type": "markdown",
      "metadata": {
        "id": "HO5PrMlmkj2W"
      },
      "source": [
        "# Optional Labwork"
      ]
    },
    {
      "cell_type": "markdown",
      "metadata": {
        "id": "sxQfbE_9IWF3"
      },
      "source": [
        "---\n",
        "Cloning Resipository( Using Git in Colaboratory)"
      ]
    },
    {
      "cell_type": "code",
      "execution_count": null,
      "metadata": {
        "id": "scpHtf4mMWc1"
      },
      "outputs": [],
      "source": [
        "import pandas as pd\n",
        "import seaborn as sns\n",
        "import matplotlib.pyplot as plt\n",
        "from sklearn.feature_extraction import DictVectorizer   #DictVectorizer is particularly useful when dealing with categorical features, and it helps convert such features into a format suitable for machine learning models that require numerical input.\n",
        "%matplotlib inline\n",
        "from sklearn.linear_model import LinearRegression\n",
        "from sklearn.model_selection import train_test_split\n",
        "from sklearn.metrics import mean_squared_error\n",
        "from sklearn.linear_model import Lasso\n",
        "import os\n",
        "import pickle\n",
        "from sklearn.linear_model import Ridge #An instance of the Ridge class is created with a specified value for the regularization parameter (alpha)"
      ]
    },
    {
      "cell_type": "code",
      "execution_count": null,
      "metadata": {
        "colab": {
          "base_uri": "https://localhost:8080/",
          "height": 73
        },
        "id": "XpZ8lPq82xff",
        "outputId": "69d82756-6397-4d26-c6fc-362d0714a715"
      },
      "outputs": [
        {
          "output_type": "display_data",
          "data": {
            "text/plain": [
              "<IPython.core.display.HTML object>"
            ],
            "text/html": [
              "\n",
              "     <input type=\"file\" id=\"files-4a6d074c-a31b-413d-9cbb-350f2a063a1f\" name=\"files[]\" multiple disabled\n",
              "        style=\"border:none\" />\n",
              "     <output id=\"result-4a6d074c-a31b-413d-9cbb-350f2a063a1f\">\n",
              "      Upload widget is only available when the cell has been executed in the\n",
              "      current browser session. Please rerun this cell to enable.\n",
              "      </output>\n",
              "      <script>// Copyright 2017 Google LLC\n",
              "//\n",
              "// Licensed under the Apache License, Version 2.0 (the \"License\");\n",
              "// you may not use this file except in compliance with the License.\n",
              "// You may obtain a copy of the License at\n",
              "//\n",
              "//      http://www.apache.org/licenses/LICENSE-2.0\n",
              "//\n",
              "// Unless required by applicable law or agreed to in writing, software\n",
              "// distributed under the License is distributed on an \"AS IS\" BASIS,\n",
              "// WITHOUT WARRANTIES OR CONDITIONS OF ANY KIND, either express or implied.\n",
              "// See the License for the specific language governing permissions and\n",
              "// limitations under the License.\n",
              "\n",
              "/**\n",
              " * @fileoverview Helpers for google.colab Python module.\n",
              " */\n",
              "(function(scope) {\n",
              "function span(text, styleAttributes = {}) {\n",
              "  const element = document.createElement('span');\n",
              "  element.textContent = text;\n",
              "  for (const key of Object.keys(styleAttributes)) {\n",
              "    element.style[key] = styleAttributes[key];\n",
              "  }\n",
              "  return element;\n",
              "}\n",
              "\n",
              "// Max number of bytes which will be uploaded at a time.\n",
              "const MAX_PAYLOAD_SIZE = 100 * 1024;\n",
              "\n",
              "function _uploadFiles(inputId, outputId) {\n",
              "  const steps = uploadFilesStep(inputId, outputId);\n",
              "  const outputElement = document.getElementById(outputId);\n",
              "  // Cache steps on the outputElement to make it available for the next call\n",
              "  // to uploadFilesContinue from Python.\n",
              "  outputElement.steps = steps;\n",
              "\n",
              "  return _uploadFilesContinue(outputId);\n",
              "}\n",
              "\n",
              "// This is roughly an async generator (not supported in the browser yet),\n",
              "// where there are multiple asynchronous steps and the Python side is going\n",
              "// to poll for completion of each step.\n",
              "// This uses a Promise to block the python side on completion of each step,\n",
              "// then passes the result of the previous step as the input to the next step.\n",
              "function _uploadFilesContinue(outputId) {\n",
              "  const outputElement = document.getElementById(outputId);\n",
              "  const steps = outputElement.steps;\n",
              "\n",
              "  const next = steps.next(outputElement.lastPromiseValue);\n",
              "  return Promise.resolve(next.value.promise).then((value) => {\n",
              "    // Cache the last promise value to make it available to the next\n",
              "    // step of the generator.\n",
              "    outputElement.lastPromiseValue = value;\n",
              "    return next.value.response;\n",
              "  });\n",
              "}\n",
              "\n",
              "/**\n",
              " * Generator function which is called between each async step of the upload\n",
              " * process.\n",
              " * @param {string} inputId Element ID of the input file picker element.\n",
              " * @param {string} outputId Element ID of the output display.\n",
              " * @return {!Iterable<!Object>} Iterable of next steps.\n",
              " */\n",
              "function* uploadFilesStep(inputId, outputId) {\n",
              "  const inputElement = document.getElementById(inputId);\n",
              "  inputElement.disabled = false;\n",
              "\n",
              "  const outputElement = document.getElementById(outputId);\n",
              "  outputElement.innerHTML = '';\n",
              "\n",
              "  const pickedPromise = new Promise((resolve) => {\n",
              "    inputElement.addEventListener('change', (e) => {\n",
              "      resolve(e.target.files);\n",
              "    });\n",
              "  });\n",
              "\n",
              "  const cancel = document.createElement('button');\n",
              "  inputElement.parentElement.appendChild(cancel);\n",
              "  cancel.textContent = 'Cancel upload';\n",
              "  const cancelPromise = new Promise((resolve) => {\n",
              "    cancel.onclick = () => {\n",
              "      resolve(null);\n",
              "    };\n",
              "  });\n",
              "\n",
              "  // Wait for the user to pick the files.\n",
              "  const files = yield {\n",
              "    promise: Promise.race([pickedPromise, cancelPromise]),\n",
              "    response: {\n",
              "      action: 'starting',\n",
              "    }\n",
              "  };\n",
              "\n",
              "  cancel.remove();\n",
              "\n",
              "  // Disable the input element since further picks are not allowed.\n",
              "  inputElement.disabled = true;\n",
              "\n",
              "  if (!files) {\n",
              "    return {\n",
              "      response: {\n",
              "        action: 'complete',\n",
              "      }\n",
              "    };\n",
              "  }\n",
              "\n",
              "  for (const file of files) {\n",
              "    const li = document.createElement('li');\n",
              "    li.append(span(file.name, {fontWeight: 'bold'}));\n",
              "    li.append(span(\n",
              "        `(${file.type || 'n/a'}) - ${file.size} bytes, ` +\n",
              "        `last modified: ${\n",
              "            file.lastModifiedDate ? file.lastModifiedDate.toLocaleDateString() :\n",
              "                                    'n/a'} - `));\n",
              "    const percent = span('0% done');\n",
              "    li.appendChild(percent);\n",
              "\n",
              "    outputElement.appendChild(li);\n",
              "\n",
              "    const fileDataPromise = new Promise((resolve) => {\n",
              "      const reader = new FileReader();\n",
              "      reader.onload = (e) => {\n",
              "        resolve(e.target.result);\n",
              "      };\n",
              "      reader.readAsArrayBuffer(file);\n",
              "    });\n",
              "    // Wait for the data to be ready.\n",
              "    let fileData = yield {\n",
              "      promise: fileDataPromise,\n",
              "      response: {\n",
              "        action: 'continue',\n",
              "      }\n",
              "    };\n",
              "\n",
              "    // Use a chunked sending to avoid message size limits. See b/62115660.\n",
              "    let position = 0;\n",
              "    do {\n",
              "      const length = Math.min(fileData.byteLength - position, MAX_PAYLOAD_SIZE);\n",
              "      const chunk = new Uint8Array(fileData, position, length);\n",
              "      position += length;\n",
              "\n",
              "      const base64 = btoa(String.fromCharCode.apply(null, chunk));\n",
              "      yield {\n",
              "        response: {\n",
              "          action: 'append',\n",
              "          file: file.name,\n",
              "          data: base64,\n",
              "        },\n",
              "      };\n",
              "\n",
              "      let percentDone = fileData.byteLength === 0 ?\n",
              "          100 :\n",
              "          Math.round((position / fileData.byteLength) * 100);\n",
              "      percent.textContent = `${percentDone}% done`;\n",
              "\n",
              "    } while (position < fileData.byteLength);\n",
              "  }\n",
              "\n",
              "  // All done.\n",
              "  yield {\n",
              "    response: {\n",
              "      action: 'complete',\n",
              "    }\n",
              "  };\n",
              "}\n",
              "\n",
              "scope.google = scope.google || {};\n",
              "scope.google.colab = scope.google.colab || {};\n",
              "scope.google.colab._files = {\n",
              "  _uploadFiles,\n",
              "  _uploadFilesContinue,\n",
              "};\n",
              "})(self);\n",
              "</script> "
            ]
          },
          "metadata": {}
        },
        {
          "output_type": "stream",
          "name": "stdout",
          "text": [
            "Saving green_tripdata_2021-01.parquet to green_tripdata_2021-01.parquet\n"
          ]
        }
      ],
      "source": [
        "from google.colab import files\n",
        "upload = files.upload()"
      ]
    },
    {
      "cell_type": "code",
      "execution_count": null,
      "metadata": {
        "id": "4n8vkENBaYga"
      },
      "outputs": [],
      "source": [
        "lab = pd.read_parquet('green_tripdata_2021-01.parquet')\n",
        "lab.head()"
      ]
    },
    {
      "cell_type": "code",
      "execution_count": null,
      "metadata": {
        "id": "lNRuluGZGDdX"
      },
      "outputs": [],
      "source": [
        "def read_dataframe(filename):\n",
        "  lab = pd.read_parquet(filename)\n",
        "\n",
        "  lab.lpep_pickup_datetime = pd.to_datetime(lab.lpep_pickup_datetime)    #datetime - to tell pandas that it is not a string but date\n",
        "  lab.lpep_dropoff_datetime = pd.to_datetime(lab.lpep_dropoff_datetime)\n",
        "\n",
        "  lab['duration'] = lab.lpep_dropoff_datetime - lab.lpep_pickup_datetime   # adding duration to the list\n",
        "  lab.duration = lab.duration.apply(lambda td: td.total_seconds() / 60)\n",
        "\n",
        "  lab = lab[((lab.duration >= 1) & (lab.duration <= 60))]\n",
        "\n",
        "  categ = ['PULocationID', 'DOLocationID']\n",
        "  lab[categ] = lab[categ].astype(str)\n",
        "\n",
        "  return lab"
      ]
    },
    {
      "cell_type": "code",
      "execution_count": null,
      "metadata": {
        "colab": {
          "base_uri": "https://localhost:8080/",
          "height": 73
        },
        "id": "UcaR5AnU2wem",
        "outputId": "1a5181a8-e080-43d2-c47d-21da1a6c7bb0"
      },
      "outputs": [
        {
          "output_type": "display_data",
          "data": {
            "text/plain": [
              "<IPython.core.display.HTML object>"
            ],
            "text/html": [
              "\n",
              "     <input type=\"file\" id=\"files-f43f2092-7b9e-41bf-8a65-b5a4231a4231\" name=\"files[]\" multiple disabled\n",
              "        style=\"border:none\" />\n",
              "     <output id=\"result-f43f2092-7b9e-41bf-8a65-b5a4231a4231\">\n",
              "      Upload widget is only available when the cell has been executed in the\n",
              "      current browser session. Please rerun this cell to enable.\n",
              "      </output>\n",
              "      <script>// Copyright 2017 Google LLC\n",
              "//\n",
              "// Licensed under the Apache License, Version 2.0 (the \"License\");\n",
              "// you may not use this file except in compliance with the License.\n",
              "// You may obtain a copy of the License at\n",
              "//\n",
              "//      http://www.apache.org/licenses/LICENSE-2.0\n",
              "//\n",
              "// Unless required by applicable law or agreed to in writing, software\n",
              "// distributed under the License is distributed on an \"AS IS\" BASIS,\n",
              "// WITHOUT WARRANTIES OR CONDITIONS OF ANY KIND, either express or implied.\n",
              "// See the License for the specific language governing permissions and\n",
              "// limitations under the License.\n",
              "\n",
              "/**\n",
              " * @fileoverview Helpers for google.colab Python module.\n",
              " */\n",
              "(function(scope) {\n",
              "function span(text, styleAttributes = {}) {\n",
              "  const element = document.createElement('span');\n",
              "  element.textContent = text;\n",
              "  for (const key of Object.keys(styleAttributes)) {\n",
              "    element.style[key] = styleAttributes[key];\n",
              "  }\n",
              "  return element;\n",
              "}\n",
              "\n",
              "// Max number of bytes which will be uploaded at a time.\n",
              "const MAX_PAYLOAD_SIZE = 100 * 1024;\n",
              "\n",
              "function _uploadFiles(inputId, outputId) {\n",
              "  const steps = uploadFilesStep(inputId, outputId);\n",
              "  const outputElement = document.getElementById(outputId);\n",
              "  // Cache steps on the outputElement to make it available for the next call\n",
              "  // to uploadFilesContinue from Python.\n",
              "  outputElement.steps = steps;\n",
              "\n",
              "  return _uploadFilesContinue(outputId);\n",
              "}\n",
              "\n",
              "// This is roughly an async generator (not supported in the browser yet),\n",
              "// where there are multiple asynchronous steps and the Python side is going\n",
              "// to poll for completion of each step.\n",
              "// This uses a Promise to block the python side on completion of each step,\n",
              "// then passes the result of the previous step as the input to the next step.\n",
              "function _uploadFilesContinue(outputId) {\n",
              "  const outputElement = document.getElementById(outputId);\n",
              "  const steps = outputElement.steps;\n",
              "\n",
              "  const next = steps.next(outputElement.lastPromiseValue);\n",
              "  return Promise.resolve(next.value.promise).then((value) => {\n",
              "    // Cache the last promise value to make it available to the next\n",
              "    // step of the generator.\n",
              "    outputElement.lastPromiseValue = value;\n",
              "    return next.value.response;\n",
              "  });\n",
              "}\n",
              "\n",
              "/**\n",
              " * Generator function which is called between each async step of the upload\n",
              " * process.\n",
              " * @param {string} inputId Element ID of the input file picker element.\n",
              " * @param {string} outputId Element ID of the output display.\n",
              " * @return {!Iterable<!Object>} Iterable of next steps.\n",
              " */\n",
              "function* uploadFilesStep(inputId, outputId) {\n",
              "  const inputElement = document.getElementById(inputId);\n",
              "  inputElement.disabled = false;\n",
              "\n",
              "  const outputElement = document.getElementById(outputId);\n",
              "  outputElement.innerHTML = '';\n",
              "\n",
              "  const pickedPromise = new Promise((resolve) => {\n",
              "    inputElement.addEventListener('change', (e) => {\n",
              "      resolve(e.target.files);\n",
              "    });\n",
              "  });\n",
              "\n",
              "  const cancel = document.createElement('button');\n",
              "  inputElement.parentElement.appendChild(cancel);\n",
              "  cancel.textContent = 'Cancel upload';\n",
              "  const cancelPromise = new Promise((resolve) => {\n",
              "    cancel.onclick = () => {\n",
              "      resolve(null);\n",
              "    };\n",
              "  });\n",
              "\n",
              "  // Wait for the user to pick the files.\n",
              "  const files = yield {\n",
              "    promise: Promise.race([pickedPromise, cancelPromise]),\n",
              "    response: {\n",
              "      action: 'starting',\n",
              "    }\n",
              "  };\n",
              "\n",
              "  cancel.remove();\n",
              "\n",
              "  // Disable the input element since further picks are not allowed.\n",
              "  inputElement.disabled = true;\n",
              "\n",
              "  if (!files) {\n",
              "    return {\n",
              "      response: {\n",
              "        action: 'complete',\n",
              "      }\n",
              "    };\n",
              "  }\n",
              "\n",
              "  for (const file of files) {\n",
              "    const li = document.createElement('li');\n",
              "    li.append(span(file.name, {fontWeight: 'bold'}));\n",
              "    li.append(span(\n",
              "        `(${file.type || 'n/a'}) - ${file.size} bytes, ` +\n",
              "        `last modified: ${\n",
              "            file.lastModifiedDate ? file.lastModifiedDate.toLocaleDateString() :\n",
              "                                    'n/a'} - `));\n",
              "    const percent = span('0% done');\n",
              "    li.appendChild(percent);\n",
              "\n",
              "    outputElement.appendChild(li);\n",
              "\n",
              "    const fileDataPromise = new Promise((resolve) => {\n",
              "      const reader = new FileReader();\n",
              "      reader.onload = (e) => {\n",
              "        resolve(e.target.result);\n",
              "      };\n",
              "      reader.readAsArrayBuffer(file);\n",
              "    });\n",
              "    // Wait for the data to be ready.\n",
              "    let fileData = yield {\n",
              "      promise: fileDataPromise,\n",
              "      response: {\n",
              "        action: 'continue',\n",
              "      }\n",
              "    };\n",
              "\n",
              "    // Use a chunked sending to avoid message size limits. See b/62115660.\n",
              "    let position = 0;\n",
              "    do {\n",
              "      const length = Math.min(fileData.byteLength - position, MAX_PAYLOAD_SIZE);\n",
              "      const chunk = new Uint8Array(fileData, position, length);\n",
              "      position += length;\n",
              "\n",
              "      const base64 = btoa(String.fromCharCode.apply(null, chunk));\n",
              "      yield {\n",
              "        response: {\n",
              "          action: 'append',\n",
              "          file: file.name,\n",
              "          data: base64,\n",
              "        },\n",
              "      };\n",
              "\n",
              "      let percentDone = fileData.byteLength === 0 ?\n",
              "          100 :\n",
              "          Math.round((position / fileData.byteLength) * 100);\n",
              "      percent.textContent = `${percentDone}% done`;\n",
              "\n",
              "    } while (position < fileData.byteLength);\n",
              "  }\n",
              "\n",
              "  // All done.\n",
              "  yield {\n",
              "    response: {\n",
              "      action: 'complete',\n",
              "    }\n",
              "  };\n",
              "}\n",
              "\n",
              "scope.google = scope.google || {};\n",
              "scope.google.colab = scope.google.colab || {};\n",
              "scope.google.colab._files = {\n",
              "  _uploadFiles,\n",
              "  _uploadFilesContinue,\n",
              "};\n",
              "})(self);\n",
              "</script> "
            ]
          },
          "metadata": {}
        },
        {
          "output_type": "stream",
          "name": "stdout",
          "text": [
            "Saving green_tripdata_2021-02.parquet to green_tripdata_2021-02.parquet\n"
          ]
        }
      ],
      "source": [
        "from google.colab import files\n",
        "upload = files.upload()"
      ]
    },
    {
      "cell_type": "code",
      "execution_count": null,
      "metadata": {
        "id": "RCtqbR1D3Ia3"
      },
      "outputs": [],
      "source": [
        "lab_train = read_dataframe('green_tripdata_2021-01.parquet')\n",
        "lab_val = read_dataframe('green_tripdata_2021-02.parquet')"
      ]
    },
    {
      "cell_type": "code",
      "execution_count": null,
      "metadata": {
        "colab": {
          "base_uri": "https://localhost:8080/"
        },
        "id": "nH74snF-3zT3",
        "outputId": "a01451f2-a75e-45e7-a5ba-562d1c9ff51a"
      },
      "outputs": [
        {
          "output_type": "execute_result",
          "data": {
            "text/plain": [
              "(73908, 61921)"
            ]
          },
          "metadata": {},
          "execution_count": 7
        }
      ],
      "source": [
        "len(lab_train), len(lab_val)"
      ]
    },
    {
      "cell_type": "code",
      "execution_count": null,
      "metadata": {
        "id": "-OO8lhubdu3Y"
      },
      "outputs": [],
      "source": [
        "lab_train['PU_DO'] = lab_train['PULocationID'].astype(str) + '_' + lab_train['DOLocationID'].astype(str)\n",
        "lab_val['PU_DO'] = lab_val['PULocationID'].astype(str) + '_' + lab_val['DOLocationID'].astype(str)"
      ]
    },
    {
      "cell_type": "code",
      "execution_count": null,
      "metadata": {
        "id": "X7_U3NldTGdR"
      },
      "outputs": [],
      "source": [
        "categ = ['PU_DO']#, 'DOLocationID']\n",
        "num = ['trip_distance']\n",
        "\n",
        "dv =DictVectorizer()    # turns a dictionary into a vector\n",
        "\n",
        "train_dict = lab_train[categ + num].to_dict(orient='records') #iloc[:10 - takes first 10,  this syntax turns the dataframe into dictionaries\n",
        "x_train = dv.fit_transform(train_dict)\n",
        "\n",
        "val_dicts = lab_val[categ + num].to_dict(orient='records')\n",
        "x_val =  dv.transform(val_dicts)"
      ]
    },
    {
      "cell_type": "code",
      "execution_count": null,
      "metadata": {
        "id": "l99nlmpY70R7"
      },
      "outputs": [],
      "source": [
        "target = 'duration'\n",
        "y_train = lab_train[target].values\n",
        "y_val = lab_val[target].values"
      ]
    },
    {
      "cell_type": "code",
      "execution_count": null,
      "metadata": {
        "colab": {
          "base_uri": "https://localhost:8080/"
        },
        "id": "XD7APO_k74Xq",
        "outputId": "35eb715a-bc85-4c33-ad31-5b1c3f97337e"
      },
      "outputs": [
        {
          "output_type": "execute_result",
          "data": {
            "text/plain": [
              "7.758715206462274"
            ]
          },
          "metadata": {},
          "execution_count": 11
        }
      ],
      "source": [
        "lr = LinearRegression()\n",
        "lr.fit(x_train, y_train)\n",
        "\n",
        "y_pred = lr.predict(x_val)\n",
        "\n",
        "mean_squared_error(y_val, y_pred, squared=False)"
      ]
    },
    {
      "cell_type": "code",
      "execution_count": null,
      "metadata": {
        "id": "yG0pV00ej1EF"
      },
      "outputs": [],
      "source": [
        "# Creating the 'models' directory because it doesn't exist\n",
        "if not os.path.exists('models'):\n",
        "    os.makedirs('models')\n",
        "\n",
        "# original code to save the file\n",
        "with open('models/lin_reg.bin', 'wb') as f_out:\n",
        "    pickle.dump((dv, lr), f_out)\n"
      ]
    },
    {
      "cell_type": "code",
      "execution_count": null,
      "metadata": {
        "id": "W6dqAoiG_fbu"
      },
      "outputs": [],
      "source": [
        "lr = Lasso(0.01)\n",
        "lr.fit(x_train, y_train)\n",
        "\n",
        "y_pred = lr.predict(x_val)\n",
        "\n",
        "mean_squared_error(y_val, y_pred, squared=False)"
      ]
    },
    {
      "cell_type": "code",
      "execution_count": null,
      "metadata": {
        "id": "a_Hsj22qcy8N"
      },
      "outputs": [],
      "source": [
        "lr = Ridge()\n",
        "lr.fit(x_train, y_train)\n",
        "\n",
        "y_pred = lr.predict(x_val)\n",
        "\n",
        "mean_squared_error(y_val, y_pred, squared=False)"
      ]
    },
    {
      "cell_type": "code",
      "execution_count": null,
      "metadata": {
        "id": "flXQy1ZCO5th"
      },
      "outputs": [],
      "source": [
        "sns.displot(lab.duration)"
      ]
    },
    {
      "cell_type": "code",
      "execution_count": null,
      "metadata": {
        "id": "_CISmJx1PO3E"
      },
      "outputs": [],
      "source": [
        "lab.duration.describe(percentiles=[.95, .98, .99])"
      ]
    },
    {
      "cell_type": "code",
      "execution_count": null,
      "metadata": {
        "id": "XaaF_tjhvNbr"
      },
      "outputs": [],
      "source": [
        "sns.displot(y_pred, label='prediction')\n",
        "sns.displot(y_train, label='actual')\n",
        "\n",
        "plt.legend"
      ]
    },
    {
      "cell_type": "markdown",
      "metadata": {
        "id": "3VYuNFjDFxuG"
      },
      "source": [
        "#MLOps Maturity"
      ]
    },
    {
      "cell_type": "code",
      "execution_count": null,
      "metadata": {
        "id": "-BJsFbrqplQA"
      },
      "outputs": [],
      "source": [
        "!pip install mlflow #--quiet\n",
        "!pip install pyngrok  #ngrok helps integrate mlflow in colab"
      ]
    },
    {
      "cell_type": "code",
      "execution_count": null,
      "metadata": {
        "id": "22RzT1DnRo1B"
      },
      "outputs": [],
      "source": [
        "import mlflow\n",
        "import subprocess\n",
        "from pyngrok import ngrok, conf\n",
        "import getpass"
      ]
    },
    {
      "cell_type": "code",
      "execution_count": null,
      "metadata": {
        "id": "R7CpaRkrSrTA"
      },
      "outputs": [],
      "source": [
        "subprocess.Popen(['mlflow', 'ui', '--backend-store-uri', 'sqlite:///mlflow.db'])"
      ]
    },
    {
      "cell_type": "code",
      "execution_count": null,
      "metadata": {
        "id": "NL7ojBHDSHey"
      },
      "outputs": [],
      "source": [
        "mlflow.set_tracking_uri('sqlite:///mlflow.db')\n",
        "mlflow.set_experiment('Learn MLFLOW')"
      ]
    },
    {
      "cell_type": "code",
      "execution_count": null,
      "metadata": {
        "id": "3xRhzn51Tees"
      },
      "outputs": [],
      "source": [
        "print('ngrok config add-authtoken 2ZrJVVeIYs9WvY2PriDSGfOk8Iz_7FtnWPBGCTht5dRGuJ4jZ')\n",
        "conf.get_default().auth_token = getpass.getpass()\n",
        "port=5000\n",
        "public_url =ngrok.connect(port).public_url\n",
        "print(f' *ngrok tunnel \\'{public_url}\\' -> \\'http://127.0.0.1:{port}\\'')"
      ]
    },
    {
      "cell_type": "code",
      "execution_count": null,
      "metadata": {
        "id": "uPne1rXnr38h"
      },
      "outputs": [],
      "source": [
        "# Creating the 'models' directory because it doesn't exist\n",
        "if not os.path.exists('models'):\n",
        "    os.makedirs('models')\n",
        "\n",
        "# original code to save the file\n",
        "with open('models/lin_reg.bin', 'wb') as f_out:\n",
        "    pickle.dump((dv, lr), f_out)\n"
      ]
    },
    {
      "cell_type": "code",
      "execution_count": null,
      "metadata": {
        "id": "xuKWVcG5iWPS"
      },
      "outputs": [],
      "source": [
        "# End the current active run\n",
        "mlflow.end_run()\n",
        "\n",
        "# Start a new run\n",
        "with mlflow.start_run():\n",
        "    mlflow.set_tag('developer', 'Victoria')\n",
        "\n",
        "    mlflow.log_param('train-data-path', 'green_tripdata_2021-01.parquet')\n",
        "    mlflow.log_param('val-data-path', 'green_tripdata_2021-02.parquet')\n",
        "\n",
        "    alpha = 0.01\n",
        "    mlflow.log_param('alpha', alpha)\n",
        "\n",
        "    lr = Lasso(alpha)\n",
        "    lr.fit(x_train, y_train)\n",
        "\n",
        "    y_pred = lr.predict(x_val)\n",
        "\n",
        "    rmse = mean_squared_error(y_val, y_pred, squared=False)\n",
        "    mlflow.log_metric('rmse', rmse)\n",
        "\n",
        "    mlflow.log_artifact(local_path='models/lin_reg.bin', artifact_path='models_pickle/lin_reg.bin')  #saved the model in lin_reg.bin in the artifact directory\n"
      ]
    },
    {
      "cell_type": "code",
      "execution_count": null,
      "metadata": {
        "id": "iFMsz0p8aM0U"
      },
      "outputs": [],
      "source": [
        "import xgboost as xgb\n",
        "from hyperopt import fmin, tpe, hp, STATUS_OK, Trials\n",
        "from hyperopt.pyll import scope"
      ]
    },
    {
      "cell_type": "code",
      "execution_count": null,
      "metadata": {
        "id": "3e6vj5E57GRW"
      },
      "outputs": [],
      "source": [
        "train = xgb.DMatrix(x_train, label=y_train)\n",
        "valid = xgb.DMatrix(x_val, label=y_val)"
      ]
    },
    {
      "cell_type": "code",
      "execution_count": null,
      "metadata": {
        "id": "_1smIpa1ALK_"
      },
      "outputs": [],
      "source": [
        "def objective(params):\n",
        "      #  params = log and visualize parameters using MLflow\n",
        "  with mlflow.start_run():\n",
        "     mlflow.set_tag('model', 'xgboost')\n",
        "     mlflow.log_params(params)\n",
        "     booster = xgb.train(\n",
        "        params=params,\n",
        "        dtrain=train,\n",
        "        num_boost_round=1000,\n",
        "        evals=[(valid, 'validation')],\n",
        "        early_stopping_rounds=50\n",
        "     )\n",
        "     y_pred = booster.predict(valid)\n",
        "     rmse = mean_squared_error(y_val, y_pred, squared=False)\n",
        "     mlflow.log_metric('rmse', rmse)\n",
        "\n",
        "  return {'loss': rmse, 'status': STATUS_OK}"
      ]
    },
    {
      "cell_type": "code",
      "execution_count": null,
      "metadata": {
        "id": "h107t_UNJktw"
      },
      "outputs": [],
      "source": [
        " search_space = {\n",
        "     'max_depth': scope.int(hp.quniform('max_depth', 4, 100, 1)),\n",
        "     'learning_rate': hp.loguniform('learning_rate', -3, 0),\n",
        "     'reg_alpha': hp.loguniform('reg_alpha', -5, -1),\n",
        "     'reg_lambda': hp.loguniform('reg_lamba', -6, -1),\n",
        "     'min_child_weight': hp.loguniform('min_child_weight', -1, 3),\n",
        "     'objective': 'reg:linear',\n",
        "     'seed': 42,\n",
        " }\n",
        "\n",
        " best_result = fmin(\n",
        "     fn=objective,\n",
        "     space=search_space,\n",
        "     algo=tpe.suggest,\n",
        "     max_evals=50,\n",
        "     trials=Trials())"
      ]
    },
    {
      "cell_type": "code",
      "source": [
        "best_params = {\n",
        "    'learning_rate': 0.0842682702128579,\n",
        "    'max_depth': 84,\n",
        "    'min_child_weight': 4.563936109962006,\n",
        "    'objective': 'reg:squarederror',  # Use a valid regression objective\n",
        "    'reg_alpha': 0.18802869296387734,\n",
        "    'reg_lambda': 0.01761052467223192,\n",
        "    'seed': 42\n",
        "}\n",
        "\n",
        "mlflow.xgboost.autolog()\n",
        "\n",
        "booster = xgb.train(\n",
        "    params=best_params,\n",
        "    dtrain=train,\n",
        "    num_boost_round=1000,\n",
        "    evals=[(valid, 'validation')],\n",
        "    early_stopping_rounds=50\n",
        ")"
      ],
      "metadata": {
        "id": "QRxNZBHNjpvj"
      },
      "execution_count": null,
      "outputs": []
    },
    {
      "cell_type": "code",
      "source": [
        "mlflow.xgboost.autolog(disable=True)"
      ],
      "metadata": {
        "id": "0CCYym0l6ESl"
      },
      "execution_count": null,
      "outputs": []
    },
    {
      "cell_type": "code",
      "source": [
        "with mlflow.start_run():\n",
        "\n",
        "  mlflow.set_tag('developer', 'Victoria')\n",
        "  train = xgb.DMatrix(x_train, label=y_train)\n",
        "  valid = xgb.DMatrix(x_val, label=y_val)\n",
        "\n",
        "  best_params = {\n",
        "    'learning_rate': 0.0842682702128579,\n",
        "    'max_depth': 84,\n",
        "    'min_child_weight': 4.563936109962006,\n",
        "    'objective': 'reg:linear',  # Use a valid regression objective\n",
        "    'reg_alpha': 0.18802869296387734,\n",
        "    'reg_lambda': 0.01761052467223192,\n",
        "    'seed': 42\n",
        "  }\n",
        "\n",
        "  mlflow.log_params(best_params)\n",
        "\n",
        "  booster = xgb.train(\n",
        "      params=best_params,\n",
        "      dtrain=train,\n",
        "      num_boost_round=1000,\n",
        "      evals=[(valid, 'validation')],\n",
        "      early_stopping_rounds=50\n",
        "  )\n",
        "\n",
        "  y_pred = booster.predict(valid)\n",
        "  rmse = mean_squared_error(y_val, y_pred, squared=False)\n",
        "  mlflow.log_metric('rmse', rmse)\n",
        "\n",
        "  with open('models/preprocessor.b', 'wb') as f_out:\n",
        "    pickle.dump(dv, f_out)\n",
        "\n",
        "  mlflow.log_artifact('models/preprocessor.b', artifact_path='preprocessor')\n",
        "  mlflow.xgboost.log_model(booster, artifact_path='models_mlflow')"
      ],
      "metadata": {
        "id": "g5IY0ZFqzbdM"
      },
      "execution_count": null,
      "outputs": []
    },
    {
      "cell_type": "code",
      "source": [
        "logged_model = 'runs:/b849064b539040d9919ff819d274fffc/models_mlflow'\n",
        "\n",
        "# Load model as a PyFuncModel.\n",
        "loaded_model = mlflow.pyfunc.load_model(logged_model)"
      ],
      "metadata": {
        "id": "ZEl8f0dyHUEn"
      },
      "execution_count": null,
      "outputs": []
    },
    {
      "cell_type": "code",
      "source": [
        "loaded_model"
      ],
      "metadata": {
        "id": "NnvvE8Q8-nGO"
      },
      "execution_count": null,
      "outputs": []
    },
    {
      "cell_type": "code",
      "execution_count": null,
      "metadata": {
        "id": "3mgO9g_4Ev2L"
      },
      "outputs": [],
      "source": [
        "xgboost_model = mlflow.xgboost.load_model(logged_model)\n",
        "xgboost_model"
      ]
    },
    {
      "cell_type": "code",
      "execution_count": null,
      "metadata": {
        "id": "jV3lfG2lmN5S"
      },
      "outputs": [],
      "source": [
        "y_pred = xgboost_model.predict(valid)"
      ]
    },
    {
      "cell_type": "code",
      "execution_count": null,
      "metadata": {
        "id": "hD69OzgoVwKs"
      },
      "outputs": [],
      "source": [
        "y_pred[:10]"
      ]
    },
    {
      "cell_type": "code",
      "execution_count": null,
      "metadata": {
        "id": "R7Y7Nr8LV6nJ"
      },
      "outputs": [],
      "source": [
        "from mlflow.tracking import MlflowClient\n",
        "\n",
        "MLFLOW_TRACKING_URI = 'sqlite:///mlflow.db'\n",
        "\n",
        "client = MlflowClient(tracking_uri=MLFLOW_TRACKING_URI)"
      ]
    },
    {
      "cell_type": "code",
      "source": [
        "client.create_experiment(name='My_next_experiment')  #creating new experiment"
      ],
      "metadata": {
        "id": "TQZBl0HnEMSO"
      },
      "execution_count": null,
      "outputs": []
    },
    {
      "cell_type": "code",
      "source": [
        "from mlflow.entities import ViewType\n",
        "\n",
        "from mlflow.entities import ViewType\n",
        "\n",
        "runs = client.search_runs(\n",
        "    experiment_ids='1',\n",
        "    filter_string='metric.rmse < 6.8',\n",
        "    run_view_type=ViewType.ACTIVE_ONLY,\n",
        "    max_results=5,  # Change '5' to 5 (integer)\n",
        "    order_by=['metrics.rmse ASC']\n",
        ")"
      ],
      "metadata": {
        "id": "fPiw6Q5qF5Ey"
      },
      "execution_count": null,
      "outputs": []
    },
    {
      "cell_type": "code",
      "source": [
        "for run in runs:\n",
        "    rmse_value = run.data.metrics.get('rmse')\n",
        "    if rmse_value is not None:\n",
        "        print(f\"run id: {run.info.run_id}, rmse: {rmse_value:.4f}\")\n",
        "    else:\n",
        "        print(f\"run id: {run.info.run_id}, rmse not available\")"
      ],
      "metadata": {
        "id": "DKDyshJhKXr0"
      },
      "execution_count": null,
      "outputs": []
    },
    {
      "cell_type": "code",
      "source": [
        "import mlflow\n",
        "mlflow.set_tracking_uri['MLFLOW_TRACKING_URI']"
      ],
      "metadata": {
        "id": "EYkaa-PoO4SP"
      },
      "execution_count": null,
      "outputs": []
    },
    {
      "cell_type": "code",
      "source": [
        "run_id = 'b849064b539040d9919ff819d274fffc/models_mlflow'\n",
        "model_uri = f'runs:/{run_id}/model'\n",
        "mlflow.register_model(model_uri=model_uri, name='NYC-TAXI-REGRESSION-MODEL')"
      ],
      "metadata": {
        "id": "0gdQOaZyP3P9"
      },
      "execution_count": null,
      "outputs": []
    },
    {
      "cell_type": "code",
      "source": [
        "model_uri"
      ],
      "metadata": {
        "id": "Y73hb1yISaJo"
      },
      "execution_count": null,
      "outputs": []
    },
    {
      "cell_type": "code",
      "source": [
        "model_name = 'NYC-TAXI-REGRESSION-MODEL'\n",
        "latest_version = client.get_latest_versions(name=model_name)\n",
        "\n",
        "for version in latest_version:\n",
        "  print(f'version = {version.version}, stage = {version.current_stage}')"
      ],
      "metadata": {
        "id": "mf7tLgqIT0oM"
      },
      "execution_count": null,
      "outputs": []
    },
    {
      "cell_type": "code",
      "source": [
        "model_version = 1\n",
        "new_stage = 'staging'\n",
        "client.transition_model_version_stage(\n",
        "    name=model_name,\n",
        "    version=model_version,\n",
        "    stage='staging',\n",
        "    archive_existing_versions=False\n",
        ")"
      ],
      "metadata": {
        "id": "Ixvc1ntKVsD_"
      },
      "execution_count": null,
      "outputs": []
    },
    {
      "cell_type": "code",
      "source": [
        "from datetime import datetime\n",
        "date = datetime.today().date()\n",
        "client.update_model_version(\n",
        "    name=model_name,\n",
        "    version=model_version,\n",
        "    description=f'This model version {model_version} was updated to {new_stage} on {date}'\n",
        ")"
      ],
      "metadata": {
        "id": "G0X5YVb6YeV3"
      },
      "execution_count": null,
      "outputs": []
    },
    {
      "cell_type": "code",
      "source": [
        "from google.colab import files\n",
        "upload = files.upload()"
      ],
      "metadata": {
        "colab": {
          "base_uri": "https://localhost:8080/",
          "height": 73
        },
        "id": "a1iKtqR0fQOR",
        "outputId": "5161664a-1f0a-46ca-9760-b77bf7736269"
      },
      "execution_count": null,
      "outputs": [
        {
          "output_type": "display_data",
          "data": {
            "text/plain": [
              "<IPython.core.display.HTML object>"
            ],
            "text/html": [
              "\n",
              "     <input type=\"file\" id=\"files-4ca7a2f1-d525-49bd-b009-52bfad0f7347\" name=\"files[]\" multiple disabled\n",
              "        style=\"border:none\" />\n",
              "     <output id=\"result-4ca7a2f1-d525-49bd-b009-52bfad0f7347\">\n",
              "      Upload widget is only available when the cell has been executed in the\n",
              "      current browser session. Please rerun this cell to enable.\n",
              "      </output>\n",
              "      <script>// Copyright 2017 Google LLC\n",
              "//\n",
              "// Licensed under the Apache License, Version 2.0 (the \"License\");\n",
              "// you may not use this file except in compliance with the License.\n",
              "// You may obtain a copy of the License at\n",
              "//\n",
              "//      http://www.apache.org/licenses/LICENSE-2.0\n",
              "//\n",
              "// Unless required by applicable law or agreed to in writing, software\n",
              "// distributed under the License is distributed on an \"AS IS\" BASIS,\n",
              "// WITHOUT WARRANTIES OR CONDITIONS OF ANY KIND, either express or implied.\n",
              "// See the License for the specific language governing permissions and\n",
              "// limitations under the License.\n",
              "\n",
              "/**\n",
              " * @fileoverview Helpers for google.colab Python module.\n",
              " */\n",
              "(function(scope) {\n",
              "function span(text, styleAttributes = {}) {\n",
              "  const element = document.createElement('span');\n",
              "  element.textContent = text;\n",
              "  for (const key of Object.keys(styleAttributes)) {\n",
              "    element.style[key] = styleAttributes[key];\n",
              "  }\n",
              "  return element;\n",
              "}\n",
              "\n",
              "// Max number of bytes which will be uploaded at a time.\n",
              "const MAX_PAYLOAD_SIZE = 100 * 1024;\n",
              "\n",
              "function _uploadFiles(inputId, outputId) {\n",
              "  const steps = uploadFilesStep(inputId, outputId);\n",
              "  const outputElement = document.getElementById(outputId);\n",
              "  // Cache steps on the outputElement to make it available for the next call\n",
              "  // to uploadFilesContinue from Python.\n",
              "  outputElement.steps = steps;\n",
              "\n",
              "  return _uploadFilesContinue(outputId);\n",
              "}\n",
              "\n",
              "// This is roughly an async generator (not supported in the browser yet),\n",
              "// where there are multiple asynchronous steps and the Python side is going\n",
              "// to poll for completion of each step.\n",
              "// This uses a Promise to block the python side on completion of each step,\n",
              "// then passes the result of the previous step as the input to the next step.\n",
              "function _uploadFilesContinue(outputId) {\n",
              "  const outputElement = document.getElementById(outputId);\n",
              "  const steps = outputElement.steps;\n",
              "\n",
              "  const next = steps.next(outputElement.lastPromiseValue);\n",
              "  return Promise.resolve(next.value.promise).then((value) => {\n",
              "    // Cache the last promise value to make it available to the next\n",
              "    // step of the generator.\n",
              "    outputElement.lastPromiseValue = value;\n",
              "    return next.value.response;\n",
              "  });\n",
              "}\n",
              "\n",
              "/**\n",
              " * Generator function which is called between each async step of the upload\n",
              " * process.\n",
              " * @param {string} inputId Element ID of the input file picker element.\n",
              " * @param {string} outputId Element ID of the output display.\n",
              " * @return {!Iterable<!Object>} Iterable of next steps.\n",
              " */\n",
              "function* uploadFilesStep(inputId, outputId) {\n",
              "  const inputElement = document.getElementById(inputId);\n",
              "  inputElement.disabled = false;\n",
              "\n",
              "  const outputElement = document.getElementById(outputId);\n",
              "  outputElement.innerHTML = '';\n",
              "\n",
              "  const pickedPromise = new Promise((resolve) => {\n",
              "    inputElement.addEventListener('change', (e) => {\n",
              "      resolve(e.target.files);\n",
              "    });\n",
              "  });\n",
              "\n",
              "  const cancel = document.createElement('button');\n",
              "  inputElement.parentElement.appendChild(cancel);\n",
              "  cancel.textContent = 'Cancel upload';\n",
              "  const cancelPromise = new Promise((resolve) => {\n",
              "    cancel.onclick = () => {\n",
              "      resolve(null);\n",
              "    };\n",
              "  });\n",
              "\n",
              "  // Wait for the user to pick the files.\n",
              "  const files = yield {\n",
              "    promise: Promise.race([pickedPromise, cancelPromise]),\n",
              "    response: {\n",
              "      action: 'starting',\n",
              "    }\n",
              "  };\n",
              "\n",
              "  cancel.remove();\n",
              "\n",
              "  // Disable the input element since further picks are not allowed.\n",
              "  inputElement.disabled = true;\n",
              "\n",
              "  if (!files) {\n",
              "    return {\n",
              "      response: {\n",
              "        action: 'complete',\n",
              "      }\n",
              "    };\n",
              "  }\n",
              "\n",
              "  for (const file of files) {\n",
              "    const li = document.createElement('li');\n",
              "    li.append(span(file.name, {fontWeight: 'bold'}));\n",
              "    li.append(span(\n",
              "        `(${file.type || 'n/a'}) - ${file.size} bytes, ` +\n",
              "        `last modified: ${\n",
              "            file.lastModifiedDate ? file.lastModifiedDate.toLocaleDateString() :\n",
              "                                    'n/a'} - `));\n",
              "    const percent = span('0% done');\n",
              "    li.appendChild(percent);\n",
              "\n",
              "    outputElement.appendChild(li);\n",
              "\n",
              "    const fileDataPromise = new Promise((resolve) => {\n",
              "      const reader = new FileReader();\n",
              "      reader.onload = (e) => {\n",
              "        resolve(e.target.result);\n",
              "      };\n",
              "      reader.readAsArrayBuffer(file);\n",
              "    });\n",
              "    // Wait for the data to be ready.\n",
              "    let fileData = yield {\n",
              "      promise: fileDataPromise,\n",
              "      response: {\n",
              "        action: 'continue',\n",
              "      }\n",
              "    };\n",
              "\n",
              "    // Use a chunked sending to avoid message size limits. See b/62115660.\n",
              "    let position = 0;\n",
              "    do {\n",
              "      const length = Math.min(fileData.byteLength - position, MAX_PAYLOAD_SIZE);\n",
              "      const chunk = new Uint8Array(fileData, position, length);\n",
              "      position += length;\n",
              "\n",
              "      const base64 = btoa(String.fromCharCode.apply(null, chunk));\n",
              "      yield {\n",
              "        response: {\n",
              "          action: 'append',\n",
              "          file: file.name,\n",
              "          data: base64,\n",
              "        },\n",
              "      };\n",
              "\n",
              "      let percentDone = fileData.byteLength === 0 ?\n",
              "          100 :\n",
              "          Math.round((position / fileData.byteLength) * 100);\n",
              "      percent.textContent = `${percentDone}% done`;\n",
              "\n",
              "    } while (position < fileData.byteLength);\n",
              "  }\n",
              "\n",
              "  // All done.\n",
              "  yield {\n",
              "    response: {\n",
              "      action: 'complete',\n",
              "    }\n",
              "  };\n",
              "}\n",
              "\n",
              "scope.google = scope.google || {};\n",
              "scope.google.colab = scope.google.colab || {};\n",
              "scope.google.colab._files = {\n",
              "  _uploadFiles,\n",
              "  _uploadFilesContinue,\n",
              "};\n",
              "})(self);\n",
              "</script> "
            ]
          },
          "metadata": {}
        },
        {
          "output_type": "stream",
          "name": "stdout",
          "text": [
            "Saving green_tripdata_2021-03.parquet to green_tripdata_2021-03.parquet\n"
          ]
        }
      ]
    },
    {
      "cell_type": "code",
      "source": [
        "def read_dataframe(filename):\n",
        "  lab = pd.read_parquet(filename)\n",
        "\n",
        "  lab.lpep_pickup_datetime = pd.to_datetime(lab.lpep_pickup_datetime)    #datetime - to tell pandas that it is not a string but date\n",
        "  lab.lpep_dropoff_datetime = pd.to_datetime(lab.lpep_dropoff_datetime)\n",
        "\n",
        "  lab['duration'] = lab.lpep_dropoff_datetime - lab.lpep_pickup_datetime   # adding duration to the list\n",
        "  lab.duration = lab.duration.apply(lambda td: td.total_seconds() / 60)\n",
        "\n",
        "  lab = lab[((lab.duration >= 1) & (lab.duration <= 60))]\n",
        "\n",
        "  categ = ['PULocationID', 'DOLocationID']\n",
        "  lab[categ] = lab[categ].astype(str)\n",
        "\n",
        "  return lab\n",
        "\n",
        "def preprocess(lab, dv):\n",
        "  lab['PU_DO'] = lab['PULocationID'].astype(str) + '_' + lab['DOLocationID'].astype(str)\n",
        "  categ = ['PU_DO']\n",
        "  num = ['trip_distance']\n",
        "  train_dict = lab[categ + num].to_dict(orient='records')\n",
        "  return dv.transform(train_dict)\n",
        "\n",
        "def test_model(name, stage, x_test, y_test):\n",
        "  model = mlflow.pyfunc.load_model(f'models:/{name}/{stage}')\n",
        "  y_pred = model.predict(x_test)\n",
        "  return {'rmse': mean_squared_error(y_test, y_pred, squared=False)}\n"
      ],
      "metadata": {
        "id": "wBmgZAq5b3Gy"
      },
      "execution_count": null,
      "outputs": []
    },
    {
      "cell_type": "code",
      "source": [
        "lab = read_dataframe('green_tripdata_2021-03.parquet')"
      ],
      "metadata": {
        "id": "qA9SbHigc100"
      },
      "execution_count": null,
      "outputs": []
    },
    {
      "cell_type": "code",
      "source": [
        "client.download_artifacts(run_id=run_id, path='preprocessor', dst_path='.')"
      ],
      "metadata": {
        "id": "vcRR7I3OgGke"
      },
      "execution_count": null,
      "outputs": []
    },
    {
      "cell_type": "code",
      "source": [
        "with open('preprocessor/preprocessor.b', 'rb') as f_in:\n",
        "  dv = pickle.load(f_in)"
      ],
      "metadata": {
        "id": "vBlsgE5XgnIZ"
      },
      "execution_count": null,
      "outputs": []
    },
    {
      "cell_type": "code",
      "source": [
        "x_test = preprocess(lab, dv)"
      ],
      "metadata": {
        "id": "ZDd46V_-hFye"
      },
      "execution_count": null,
      "outputs": []
    },
    {
      "cell_type": "code",
      "source": [
        "target ='duration'\n",
        "y_test = lab[target].values"
      ],
      "metadata": {
        "id": "2TrEVjhJhfBe"
      },
      "execution_count": null,
      "outputs": []
    },
    {
      "cell_type": "code",
      "source": [
        "%time test_model(name=model_name, stage='staging', x_test=x_test, y_test=y_test)"
      ],
      "metadata": {
        "id": "x2p2QPSvhMZE"
      },
      "execution_count": null,
      "outputs": []
    },
    {
      "cell_type": "code",
      "source": [
        "mlflow.list_experiments()"
      ],
      "metadata": {
        "id": "bmC_2E8QouWu"
      },
      "execution_count": null,
      "outputs": []
    }
  ],
  "metadata": {
    "colab": {
      "provenance": [],
      "toc_visible": true,
      "authorship_tag": "ABX9TyPEyuedFa4IOqK23kKaFPDu",
      "include_colab_link": true
    },
    "kernelspec": {
      "display_name": "Python 3",
      "name": "python3"
    },
    "language_info": {
      "name": "python"
    }
  },
  "nbformat": 4,
  "nbformat_minor": 0
}