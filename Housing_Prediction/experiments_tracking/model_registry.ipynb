{
 "cells": [
  {
   "cell_type": "code",
   "execution_count": 1,
   "metadata": {},
   "outputs": [],
   "source": [
    "from mlflow.tracking import MlflowClient\n",
    "\n",
    "\n",
    "MLFLOW_TRACKING_URI = 'sqlite:///mlflow.db'\n",
    "\n",
    "client = MlflowClient(tracking_uri=MLFLOW_TRACKING_URI)"
   ]
  },
  {
   "cell_type": "code",
   "execution_count": 3,
   "metadata": {},
   "outputs": [
    {
     "data": {
      "text/plain": [
       "[<Experiment: artifact_location='file:///c:/Users/Victoria/gt/MLOp/Housing_Prediction/experiments_tracking/mlruns/3', creation_time=1713784164751, experiment_id='3', last_update_time=1713784164751, lifecycle_stage='active', name='Housing2', tags={}>,\n",
       " <Experiment: artifact_location='file:///c:/Users/Victoria/gt/MLOp/Housing_Prediction/experiments_tracking/mlruns/2', creation_time=1713779782439, experiment_id='2', last_update_time=1713779782439, lifecycle_stage='active', name='Pricing1', tags={}>,\n",
       " <Experiment: artifact_location='file:///c:/Users/Victoria/gt/MLOp/Housing_Prediction/experiments_tracking/mlruns/1', creation_time=1713779776072, experiment_id='1', last_update_time=1713779776072, lifecycle_stage='active', name='Pricing', tags={}>,\n",
       " <Experiment: artifact_location='file:///c:/Users/Victoria/gt/MLOp/Housing_Prediction/experiments_tracking/mlruns/0', creation_time=1713779775998, experiment_id='0', last_update_time=1713779775998, lifecycle_stage='active', name='Default', tags={}>]"
      ]
     },
     "execution_count": 3,
     "metadata": {},
     "output_type": "execute_result"
    }
   ],
   "source": [
    "client.search_experiments()"
   ]
  },
  {
   "cell_type": "code",
   "execution_count": 4,
   "metadata": {},
   "outputs": [
    {
     "data": {
      "text/plain": [
       "'4'"
      ]
     },
     "execution_count": 4,
     "metadata": {},
     "output_type": "execute_result"
    }
   ],
   "source": [
    "client.create_experiment(name='file')"
   ]
  },
  {
   "cell_type": "code",
   "execution_count": 26,
   "metadata": {},
   "outputs": [],
   "source": [
    "from mlflow.entities import ViewType\n",
    "import mlflow\n",
    "import pandas as pd\n",
    "from sklearn.metrics import mean_squared_error\n",
    "import pickle"
   ]
  },
  {
   "cell_type": "code",
   "execution_count": 7,
   "metadata": {},
   "outputs": [],
   "source": [
    "runs = client.search_runs(\n",
    "    experiment_ids='3',\n",
    "    filter_string=\"\",\n",
    "    run_view_type=ViewType.ACTIVE_ONLY,\n",
    "    max_results=5,\n",
    "    order_by=['metrics.rmse ASC']\n",
    ")"
   ]
  },
  {
   "cell_type": "code",
   "execution_count": 10,
   "metadata": {},
   "outputs": [
    {
     "name": "stdout",
     "output_type": "stream",
     "text": [
      "run id: 5f648d64d3974ca5891443cbde573bf3, rmse: 25996.1931\n",
      "run id: e47a42f7a9894aeba9b991b9fa4c1ac6, rmse: 25996.1931\n",
      "run id: 9d6de6c127f442cca122469cb169fd86, rmse: 25996.1931\n",
      "run id: e971293bdd1742f79d004dccddd8ba2d, rmse: 25996.1931\n",
      "run id: cf03d113f2de4428833adc7d03f305da, rmse: 38733.5256\n"
     ]
    }
   ],
   "source": [
    "for run in runs:\n",
    "    print(f\"run id: {run.info.run_id}, rmse: {run.data.metrics['rmse']:.4f}\")"
   ]
  },
  {
   "cell_type": "code",
   "execution_count": 14,
   "metadata": {},
   "outputs": [
    {
     "name": "stderr",
     "output_type": "stream",
     "text": [
      "Successfully registered model 'new'.\n",
      "Created version '1' of model 'new'.\n"
     ]
    },
    {
     "data": {
      "text/plain": [
       "<ModelVersion: aliases=[], creation_timestamp=1713798593422, current_stage='None', description=None, last_updated_timestamp=1713798593422, name='new', run_id='cf03d113f2de4428833adc7d03f305da', run_link=None, source='file:///c:/Users/Victoria/gt/MLOp/Housing_Prediction/experiments_tracking/mlruns/3/cf03d113f2de4428833adc7d03f305da/artifacts/model', status='READY', status_message=None, tags={}, user_id=None, version=1>"
      ]
     },
     "execution_count": 14,
     "metadata": {},
     "output_type": "execute_result"
    }
   ],
   "source": [
    "mlflow.set_tracking_uri(MLFLOW_TRACKING_URI)\n",
    "\n",
    "run_id = 'cf03d113f2de4428833adc7d03f305da'\n",
    "model_uri =f'runs:/{run_id}/model'\n",
    "mlflow.register_model(model_uri=model_uri, name='new')"
   ]
  },
  {
   "cell_type": "code",
   "execution_count": 17,
   "metadata": {},
   "outputs": [
    {
     "name": "stdout",
     "output_type": "stream",
     "text": [
      "version = 1, stage = None\n"
     ]
    },
    {
     "name": "stderr",
     "output_type": "stream",
     "text": [
      "C:\\Users\\Victoria\\AppData\\Local\\Temp\\ipykernel_15604\\3029521980.py:2: FutureWarning: ``mlflow.tracking.client.MlflowClient.get_latest_versions`` is deprecated since 2.9.0. Model registry stages will be removed in a future major release. To learn more about the deprecation of model registry stages, see our migration guide here: https://mlflow.org/docs/2.11.3/model-registry.html#migrating-from-stages\n",
      "  latest_version = client.get_latest_versions(name=model_name)\n"
     ]
    }
   ],
   "source": [
    "model_name = 'new'\n",
    "latest_version = client.get_latest_versions(name=model_name)\n",
    "\n",
    "for version in latest_version:\n",
    "  print(f'version = {version.version}, stage = {version.current_stage}')"
   ]
  },
  {
   "cell_type": "code",
   "execution_count": 19,
   "metadata": {},
   "outputs": [
    {
     "name": "stderr",
     "output_type": "stream",
     "text": [
      "C:\\Users\\Victoria\\AppData\\Local\\Temp\\ipykernel_15604\\153091783.py:3: FutureWarning: ``mlflow.tracking.client.MlflowClient.transition_model_version_stage`` is deprecated since 2.9.0. Model registry stages will be removed in a future major release. To learn more about the deprecation of model registry stages, see our migration guide here: https://mlflow.org/docs/2.11.3/model-registry.html#migrating-from-stages\n",
      "  client.transition_model_version_stage(\n"
     ]
    },
    {
     "data": {
      "text/plain": [
       "<ModelVersion: aliases=[], creation_timestamp=1713798593422, current_stage='Staging', description=None, last_updated_timestamp=1713799183348, name='new', run_id='cf03d113f2de4428833adc7d03f305da', run_link=None, source='file:///c:/Users/Victoria/gt/MLOp/Housing_Prediction/experiments_tracking/mlruns/3/cf03d113f2de4428833adc7d03f305da/artifacts/model', status='READY', status_message=None, tags={}, user_id=None, version=1>"
      ]
     },
     "execution_count": 19,
     "metadata": {},
     "output_type": "execute_result"
    }
   ],
   "source": [
    "model_version = 1\n",
    "new_stage = 'staging'\n",
    "client.transition_model_version_stage(\n",
    "    name=model_name,\n",
    "    version=model_version,\n",
    "    stage='staging',\n",
    "    archive_existing_versions=False\n",
    ")"
   ]
  },
  {
   "cell_type": "code",
   "execution_count": 21,
   "metadata": {},
   "outputs": [
    {
     "data": {
      "text/plain": [
       "<ModelVersion: aliases=[], creation_timestamp=1713798593422, current_stage='Staging', description='This model version1 was transitioned to staging on 2024-04-22', last_updated_timestamp=1713799552325, name='new', run_id='cf03d113f2de4428833adc7d03f305da', run_link=None, source='file:///c:/Users/Victoria/gt/MLOp/Housing_Prediction/experiments_tracking/mlruns/3/cf03d113f2de4428833adc7d03f305da/artifacts/model', status='READY', status_message=None, tags={}, user_id=None, version=1>"
      ]
     },
     "execution_count": 21,
     "metadata": {},
     "output_type": "execute_result"
    }
   ],
   "source": [
    "from datetime import datetime\n",
    "\n",
    "date= datetime.today().date()\n",
    "client.update_model_version(\n",
    "    name=model_name,\n",
    "    version=model_version,\n",
    "    description=f'This model version{model_version} was transitioned to {new_stage} on {date}'\n",
    ")"
   ]
  },
  {
   "cell_type": "code",
   "execution_count": 33,
   "metadata": {},
   "outputs": [],
   "source": [
    "df = pd.read_csv('C:/Users/Victoria/gt/MLOp/Housing_Prediction/Training.csv')"
   ]
  },
  {
   "cell_type": "code",
   "execution_count": 34,
   "metadata": {},
   "outputs": [],
   "source": [
    "def read_dataframe(filename):\n",
    "  df = pd.read_csv(filename)\n",
    "  df = df.drop(\"Id\", axis=1)\n",
    "  df = df.drop(columns=[\"Alley\", \"PoolQC\", \"Fence\", \"MiscFeature\"])\n",
    "\n",
    "  df = df[df.Neighborhood == \"Avondale\"]\n",
    "  df = df[(df.SalePrice >= 100000) & (df.SalePrice <= 500000)]\n",
    "\n",
    "  categorical = [\"BedroomAbvGr\", \"GarageCars\"]\n",
    "  df[categorical].astype(str)\n",
    "\n",
    "  return df\n",
    "\n",
    "def preprocess(df, dv):\n",
    "  df[\"BED_GAR\"] = df[\"BedroomAbvGr\"].astype(str) + \"_\" + df[\"GarageCars\"].astype(str)\n",
    "  categorical = [\"BedroomAbvGr\", \"GarageCars\"]\n",
    "  numerical = [\"GarageArea\"]\n",
    "  train_dict = df[categorical + numerical].to_dict(orient=\"records\")\n",
    "  dv.fit_transform(train_dict)\n",
    "\n",
    "def test_model(name, stage, X_test, y_test):\n",
    "  model = mlflow.pyfunc.load_model(f'models:/{name}/{stage}')\n",
    "  y_pred = model.predict(X_test)\n",
    "  return {'rmse': mean_squared_error(y_test, y_pred, squared=False)}"
   ]
  },
  {
   "cell_type": "code",
   "execution_count": 35,
   "metadata": {},
   "outputs": [
    {
     "data": {
      "application/vnd.jupyter.widget-view+json": {
       "model_id": "c20cc55198d3465fb99567d51870e87d",
       "version_major": 2,
       "version_minor": 0
      },
      "text/plain": [
       "Downloading artifacts:   0%|          | 0/1 [00:00<?, ?it/s]"
      ]
     },
     "metadata": {},
     "output_type": "display_data"
    },
    {
     "data": {
      "text/plain": [
       "'c:\\\\Users\\\\Victoria\\\\gt\\\\MLOp\\\\Housing_Prediction\\\\experiments_tracking\\\\preprocessor'"
      ]
     },
     "execution_count": 35,
     "metadata": {},
     "output_type": "execute_result"
    }
   ],
   "source": [
    "client.download_artifacts(run_id=run_id, path='preprocessor', dst_path='.')"
   ]
  },
  {
   "cell_type": "code",
   "execution_count": 36,
   "metadata": {},
   "outputs": [],
   "source": [
    "with open('preprocessor/preprocessor.b', 'rb') as f_in:\n",
    "  dv = pickle.load(f_in)"
   ]
  },
  {
   "cell_type": "code",
   "execution_count": 37,
   "metadata": {},
   "outputs": [],
   "source": [
    "X_test = preprocess(df, dv)"
   ]
  },
  {
   "cell_type": "code",
   "execution_count": 38,
   "metadata": {},
   "outputs": [],
   "source": [
    "target = 'SalePrice'\n",
    "y_test = df[target].values"
   ]
  },
  {
   "cell_type": "code",
   "execution_count": null,
   "metadata": {},
   "outputs": [],
   "source": [
    "%time test_model(name=model_name, stage='Staging', X_test=X_test, y_test=y_test)"
   ]
  },
  {
   "cell_type": "markdown",
   "metadata": {},
   "source": []
  }
 ],
 "metadata": {
  "kernelspec": {
   "display_name": "Python 3",
   "language": "python",
   "name": "python3"
  },
  "language_info": {
   "codemirror_mode": {
    "name": "ipython",
    "version": 3
   },
   "file_extension": ".py",
   "mimetype": "text/x-python",
   "name": "python",
   "nbconvert_exporter": "python",
   "pygments_lexer": "ipython3",
   "version": "3.12.2"
  }
 },
 "nbformat": 4,
 "nbformat_minor": 2
}
