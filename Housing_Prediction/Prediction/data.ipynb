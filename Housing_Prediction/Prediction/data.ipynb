{
 "cells": [
  {
   "cell_type": "code",
   "execution_count": 7,
   "metadata": {},
   "outputs": [],
   "source": [
    "import pandas as pd \n",
    "data = pd.read_csv('train.csv')"
   ]
  },
  {
   "cell_type": "code",
   "execution_count": 10,
   "metadata": {},
   "outputs": [
    {
     "name": "stdout",
     "output_type": "stream",
     "text": [
      "Neighborhood\n",
      "NAmes      225\n",
      "CollgCr    150\n",
      "OldTown    113\n",
      "Edwards    100\n",
      "Somerst     86\n",
      "Gilbert     79\n",
      "NridgHt     77\n",
      "Sawyer      74\n",
      "NWAmes      73\n",
      "SawyerW     59\n",
      "BrkSide     58\n",
      "Crawfor     51\n",
      "Mitchel     49\n",
      "NoRidge     41\n",
      "Timber      38\n",
      "IDOTRR      37\n",
      "ClearCr     28\n",
      "StoneBr     25\n",
      "SWISU       25\n",
      "MeadowV     17\n",
      "Blmngtn     17\n",
      "BrDale      16\n",
      "Veenker     11\n",
      "NPkVill      9\n",
      "Blueste      2\n",
      "Name: count, dtype: int64\n"
     ]
    }
   ],
   "source": [
    "r = data['Neighborhood'].value_counts()\n",
    "# for name in r:\n",
    "#     print(name)\n",
    "\n",
    "print(r)"
   ]
  },
  {
   "cell_type": "code",
   "execution_count": 13,
   "metadata": {},
   "outputs": [
    {
     "name": "stdout",
     "output_type": "stream",
     "text": [
      "Unique names in the 'Neighborhood' column and their counts after modification:\n",
      "Neighborhood\n",
      "Avondale    298\n",
      "CollgCr     150\n",
      "OldTown     113\n",
      "Edwards     100\n",
      "Somerst      86\n",
      "Gilbert      79\n",
      "NridgHt      77\n",
      "Sawyer       74\n",
      "SawyerW      59\n",
      "BrkSide      58\n",
      "Crawfor      51\n",
      "Mitchel      49\n",
      "NoRidge      41\n",
      "Timber       38\n",
      "IDOTRR       37\n",
      "ClearCr      28\n",
      "StoneBr      25\n",
      "SWISU        25\n",
      "MeadowV      17\n",
      "Blmngtn      17\n",
      "BrDale       16\n",
      "Veenker      11\n",
      "NPkVill       9\n",
      "Blueste       2\n",
      "Name: count, dtype: int64\n"
     ]
    }
   ],
   "source": [
    "data['Neighborhood'] = data['Neighborhood'].replace({'NWAmes': 'Avondale', 'NAmes': 'Avondale'})\n",
    "\n",
    "# Optionally, save the modified DataFrame back to a CSV file\n",
    "data.to_csv('Training.csv', index=False)\n",
    "\n",
    "# Print the unique names in the 'neighbourhood' column and their counts\n",
    "neighbourhood_counts = data['Neighborhood'].value_counts()\n",
    "print(\"Unique names in the 'Neighborhood' column and their counts after modification:\")\n",
    "print(neighbourhood_counts)"
   ]
  },
  {
   "cell_type": "code",
   "execution_count": 16,
   "metadata": {},
   "outputs": [
    {
     "name": "stdout",
     "output_type": "stream",
     "text": [
      "Unique names in the 'Neighborhood' column and their counts after modification:\n",
      "Neighborhood\n",
      "Avondale    49\n",
      "CollgCr     25\n",
      "Sawyer      23\n",
      "OldTown     22\n",
      "Mitchel     21\n",
      "Somerst     19\n",
      "NridgHt     19\n",
      "SawyerW     16\n",
      "Gilbert     16\n",
      "Edwards     12\n",
      "NoRidge     10\n",
      "Timber       9\n",
      "Crawfor      9\n",
      "IDOTRR       8\n",
      "BrkSide      6\n",
      "SWISU        5\n",
      "StoneBr      4\n",
      "BrDale       4\n",
      "Blmngtn      3\n",
      "ClearCr      3\n",
      "NPkVill      3\n",
      "Blueste      2\n",
      "Veenker      2\n",
      "MeadowV      1\n",
      "Name: count, dtype: int64\n"
     ]
    },
    {
     "ename": "",
     "evalue": "",
     "output_type": "error",
     "traceback": [
      "\u001b[1;31mThe Kernel crashed while executing code in the current cell or a previous cell. \n",
      "\u001b[1;31mPlease review the code in the cell(s) to identify a possible cause of the failure. \n",
      "\u001b[1;31mClick <a href='https://aka.ms/vscodeJupyterKernelCrash'>here</a> for more info. \n",
      "\u001b[1;31mView Jupyter <a href='command:jupyter.viewOutput'>log</a> for further details."
     ]
    }
   ],
   "source": [
    "data = pd.read_csv('validation_data.csv')\n",
    "\n",
    "data['Neighborhood'] = data['Neighborhood'].replace({'NWAmes': 'Avondale', 'NAmes': 'Avondale'})\n",
    "\n",
    "# Optionally, save the modified DataFrame back to a CSV file\n",
    "data.to_csv('Validation.csv', index=False)\n",
    "\n",
    "# Print the unique names in the 'neighbourhood' column and their counts\n",
    "neighbourhood_counts = data['Neighborhood'].value_counts()\n",
    "print(\"Unique names in the 'Neighborhood' column and their counts after modification:\")\n",
    "print(neighbourhood_counts)"
   ]
  }
 ],
 "metadata": {
  "kernelspec": {
   "display_name": "Python 3",
   "language": "python",
   "name": "python3"
  },
  "language_info": {
   "codemirror_mode": {
    "name": "ipython",
    "version": 3
   },
   "file_extension": ".py",
   "mimetype": "text/x-python",
   "name": "python",
   "nbconvert_exporter": "python",
   "pygments_lexer": "ipython3",
   "version": "3.12.2"
  }
 },
 "nbformat": 4,
 "nbformat_minor": 2
}
